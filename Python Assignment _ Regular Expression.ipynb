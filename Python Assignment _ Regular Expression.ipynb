{
 "cells": [
  {
   "cell_type": "markdown",
   "id": "4f1a684f",
   "metadata": {},
   "source": [
    "# Python Assignment :- Regular Expression"
   ]
  },
  {
   "cell_type": "markdown",
   "id": "2be3400b",
   "metadata": {},
   "source": [
    "# 1.  Write a Python program to check that a string contains only a certain set of characters (in this case a-z, A-Z and 0-9). \n"
   ]
  },
  {
   "cell_type": "code",
   "execution_count": 1,
   "id": "5f050312",
   "metadata": {},
   "outputs": [
    {
     "name": "stdout",
     "output_type": "stream",
     "text": [
      "String contains only a-z, A-Z, and 0-9 characters.\n",
      "String contains characters other than a-z, A-Z, and 0-9.\n",
      "String contains only a-z, A-Z, and 0-9 characters.\n",
      "String contains only a-z, A-Z, and 0-9 characters.\n"
     ]
    }
   ],
   "source": [
    "import re\n",
    "\n",
    "def contains_characters(input_string):\n",
    "   \n",
    "    pattern = r'^[a-zA-Z0-9]+$'\n",
    "    \n",
    "    if re.match(pattern, input_string):\n",
    "        print(\"String contains only a-z, A-Z, and 0-9 characters.\")\n",
    "    else:\n",
    "        print(\"String contains characters other than a-z, A-Z, and 0-9.\")\n",
    "\n",
    "\n",
    "contains_characters(\"HelloWorld123\") \n",
    "contains_characters(\"Hello@World\")     \n",
    "contains_characters(\"12345\")         \n",
    "contains_characters(\"abcDEF789\")      "
   ]
  },
  {
   "cell_type": "markdown",
   "id": "cf099ff9",
   "metadata": {},
   "source": [
    "# 2. Write a Python program to find sequences of lowercase letters joined with a underscore. "
   ]
  },
  {
   "cell_type": "code",
   "execution_count": 2,
   "id": "583ee066",
   "metadata": {},
   "outputs": [
    {
     "name": "stdout",
     "output_type": "stream",
     "text": [
      "Sequences of lowercase letters joined with an underscore:\n",
      "hello_world\n",
      "is_a_sequence_of_lowercase_letters\n",
      "joined_with_underscore\n"
     ]
    }
   ],
   "source": [
    "import re\n",
    "\n",
    "def find_lowercase_sequences_with_underscore(input_string):\n",
    "   \n",
    "    pattern = r'\\b[a-z]+(?:_[a-z]+)+\\b'\n",
    "   \n",
    "    matches = re.findall(pattern, input_string)\n",
    "\n",
    "    print(\"Sequences of lowercase letters joined with an underscore:\")\n",
    "    for match in matches:\n",
    "        print(match)\n",
    "\n",
    "\n",
    "input_string = \"hello_world is_a_sequence_of_lowercase_letters joined_with_underscore\"\n",
    "find_lowercase_sequences_with_underscore(input_string)\n"
   ]
  },
  {
   "cell_type": "markdown",
   "id": "6fb888de",
   "metadata": {},
   "source": [
    "# 3. Write a Python program that matches a word at the beginning of a string. \n"
   ]
  },
  {
   "cell_type": "code",
   "execution_count": 3,
   "id": "4b49d444",
   "metadata": {},
   "outputs": [
    {
     "name": "stdout",
     "output_type": "stream",
     "text": [
      "Match found: hello\n"
     ]
    }
   ],
   "source": [
    "import re\n",
    "\n",
    "def match_word_at_beginning(input_string):\n",
    "  \n",
    "    pattern = r'^\\w+'\n",
    "    \n",
    "   \n",
    "    \n",
    "    if match:\n",
    "        print(\"Match found:\", match.group())\n",
    "    else:\n",
    "        print(\"No match found.\")\n",
    "\n",
    "\n",
    "input_string = \"hello world\"\n",
    "match_word_at_beginning(input_string)\n"
   ]
  },
  {
   "cell_type": "markdown",
   "id": "c07cca4d",
   "metadata": {},
   "source": [
    "# 4. Write a Python program where a string will start with a specific number.  \n"
   ]
  },
  {
   "cell_type": "code",
   "execution_count": 4,
   "id": "796ec920",
   "metadata": {},
   "outputs": [
    {
     "name": "stdout",
     "output_type": "stream",
     "text": [
      "String starts with 123\n"
     ]
    }
   ],
   "source": [
    "import re\n",
    "\n",
    "def starts_with_specific_number(input_string, number):\n",
    "   \n",
    "    pattern = r'^' + str(number)\n",
    "    \n",
    "    match = re.match(pattern, input_string)\n",
    "    \n",
    "    if match:\n",
    "        print(\"String starts with\", number)\n",
    "    else:\n",
    "        print(\"String does not start with\", number)\n",
    "\n",
    "input_string = \"12345abc\"\n",
    "number_to_check = 123\n",
    "starts_with_specific_number(input_string, number_to_check)\n"
   ]
  },
  {
   "cell_type": "markdown",
   "id": "8bf19412",
   "metadata": {},
   "source": [
    "# 5. Write a Python program to check for a number at the end of a string."
   ]
  },
  {
   "cell_type": "code",
   "execution_count": 7,
   "id": "f59672a0",
   "metadata": {},
   "outputs": [
    {
     "name": "stdout",
     "output_type": "stream",
     "text": [
      "String ends with a number.\n"
     ]
    }
   ],
   "source": [
    "import re\n",
    "\n",
    "def ends_with_number(input_string):\n",
    "    pattern = r'\\d$'\n",
    "\n",
    "    match = re.search(pattern, input_string)\n",
    "    \n",
    "    if match:\n",
    "        print(\"String ends with a number.\")\n",
    "    else:\n",
    "        print(\"String does not end with a number.\")\n",
    "\n",
    "input_string = \"abc123\"\n",
    "ends_with_number(input_string)\n"
   ]
  },
  {
   "cell_type": "code",
   "execution_count": null,
   "id": "0016594a",
   "metadata": {},
   "outputs": [],
   "source": []
  }
 ],
 "metadata": {
  "kernelspec": {
   "display_name": "Python 3 (ipykernel)",
   "language": "python",
   "name": "python3"
  },
  "language_info": {
   "codemirror_mode": {
    "name": "ipython",
    "version": 3
   },
   "file_extension": ".py",
   "mimetype": "text/x-python",
   "name": "python",
   "nbconvert_exporter": "python",
   "pygments_lexer": "ipython3",
   "version": "3.11.5"
  }
 },
 "nbformat": 4,
 "nbformat_minor": 5
}
