{
 "cells": [
  {
   "cell_type": "markdown",
   "id": "a1e02c08",
   "metadata": {},
   "source": [
    "# Python Assignment :conditional statements \n",
    "1. Write a program to find greater number between two entered numbers. \n",
    "2. Write a program to find to entered numbers are equal or not? \n",
    "3. Write a program to find the entered number is positive or negative. \n",
    "4. Write a program to find the entered number is even or odd. \n",
    "5. Write a program to find the entered character is vowel or not? \n",
    "6. Write a program to print the days of the week according to the entered day number. \n",
    "7. Write a program to perform arithmetic operations between two integer values according to \n",
    "the operator entered by user"
   ]
  },
  {
   "cell_type": "markdown",
   "id": "b8672fd0",
   "metadata": {},
   "source": [
    "# 1. Write a program to find greater number between two entered numbers.\n"
   ]
  },
  {
   "cell_type": "code",
   "execution_count": 5,
   "id": "9b181c06",
   "metadata": {},
   "outputs": [
    {
     "name": "stdout",
     "output_type": "stream",
     "text": [
      "Enter 1st number45\n",
      "Enter 2nd number33\n",
      "45 is greater than 33\n"
     ]
    }
   ],
   "source": [
    "n1=int(input(\"Enter 1st number\"))\n",
    "n2=int(input(\"Enter 2nd number\"))\n",
    "if(n1==n2):\n",
    "    print(n1,n2,\"both are equall\")\n",
    "else:\n",
    "    if(n1>n2):\n",
    "        print(n1,\"is greater than\",n2)\n",
    "    else:\n",
    "        print(n2,\"is greater than\",n1)\n"
   ]
  },
  {
   "cell_type": "markdown",
   "id": "ad8c8dd4",
   "metadata": {},
   "source": [
    "# 2.Write a program to find to entered numbers are equal or not?\n"
   ]
  },
  {
   "cell_type": "code",
   "execution_count": 7,
   "id": "d1428031",
   "metadata": {},
   "outputs": [
    {
     "name": "stdout",
     "output_type": "stream",
     "text": [
      "Enter 1st number45\n",
      "Enter 2nd number43\n",
      "45 43 are not equal \n"
     ]
    }
   ],
   "source": [
    "n1=int(input(\"Enter 1st number\"))\n",
    "n2=int(input(\"Enter 2nd number\"))\n",
    "if(n1==n2):\n",
    "    print(n1,n2,\"both are equal\")\n",
    "else:\n",
    "    print(n1,n2,\"are not equal \")\n"
   ]
  },
  {
   "cell_type": "markdown",
   "id": "72155088",
   "metadata": {},
   "source": [
    "# 3.Write a program to find the entered number is positive or negative.\n"
   ]
  },
  {
   "cell_type": "code",
   "execution_count": 9,
   "id": "5b64f1b7",
   "metadata": {},
   "outputs": [
    {
     "name": "stdout",
     "output_type": "stream",
     "text": [
      "Enter  number-89\n",
      "-89 Is negative number\n"
     ]
    }
   ],
   "source": [
    "n1=int(input(\"Enter  number\"))\n",
    "\n",
    "if(n1>0):\n",
    "    print(n1,\"Is positive number\")\n",
    "else:\n",
    "    print(n1,\"Is negative number\")"
   ]
  },
  {
   "cell_type": "markdown",
   "id": "75aa300f",
   "metadata": {},
   "source": [
    "# 4.Write a program to find the entered number is even or odd.\n"
   ]
  },
  {
   "cell_type": "code",
   "execution_count": 10,
   "id": "38a89219",
   "metadata": {},
   "outputs": [
    {
     "name": "stdout",
     "output_type": "stream",
     "text": [
      "Enter  number45\n",
      "45 Is Odd number\n"
     ]
    }
   ],
   "source": [
    "n1=int(input(\"Enter  number\"))\n",
    "\n",
    "if(n1%2==0):\n",
    "    print(n1,\"Is Even number\")\n",
    "else:\n",
    "    print(n1,\"Is Odd number\")"
   ]
  },
  {
   "cell_type": "markdown",
   "id": "a92b74ad",
   "metadata": {},
   "source": [
    "# 5. Write a program to find the entered character is vowel or not?\n"
   ]
  },
  {
   "cell_type": "code",
   "execution_count": 16,
   "id": "324194e9",
   "metadata": {},
   "outputs": [
    {
     "name": "stdout",
     "output_type": "stream",
     "text": [
      "Enter character:i\n",
      "i :Is vowel.\n"
     ]
    }
   ],
   "source": [
    "n1=input(\"Enter character:\")\n",
    "\n",
    "if(n1=='a'or n1=='e'or n1=='i'or n1=='o'or n1=='u'):\n",
    "    print(n1,\":Is vowel.\")\n",
    "else:\n",
    "    print(n1,\":Is not vowel.\")"
   ]
  },
  {
   "cell_type": "code",
   "execution_count": 17,
   "id": "20c45deb",
   "metadata": {},
   "outputs": [
    {
     "name": "stdout",
     "output_type": "stream",
     "text": [
      "Enter character:u\n",
      "Yes, u is Vowel\n"
     ]
    }
   ],
   "source": [
    "ch=input(\"Enter character:\")\n",
    "if ch in 'aeiouAEIOU':\n",
    "    print(\"Yes,\",ch,\"is Vowel\")\n",
    "else:\n",
    "    print(ch,\"is not Vowel.\")"
   ]
  },
  {
   "cell_type": "markdown",
   "id": "59fe30f4",
   "metadata": {},
   "source": [
    "# 6.Write a program to print the days of the week according to the entered day number.\n"
   ]
  },
  {
   "cell_type": "code",
   "execution_count": 21,
   "id": "55329611",
   "metadata": {},
   "outputs": [
    {
     "name": "stdout",
     "output_type": "stream",
     "text": [
      "Enter day choice between 1 to 77\n",
      "7:Its Sunday\n"
     ]
    }
   ],
   "source": [
    "n1=int(input(\"Enter day choice between 1 to 7\"))\n",
    "\n",
    "if(n1==1):\n",
    "    print(\"1:Its Monday\")\n",
    "elif (n1==2):\n",
    "    print(\"2:Its Tuesday\") \n",
    "elif (n1==3):\n",
    "    print(\"3:Its Wednesday\") \n",
    "elif (n1==4):\n",
    "    print(\"4:Its Thursday\") \n",
    "elif (n1==5):\n",
    "    print(\"5:Its Friday\")\n",
    "elif (n1==6):\n",
    "    print(\"6:Its Saturday\")\n",
    "elif (n1==7):\n",
    "    print(\"7:Its Sunday\") \n",
    "else:\n",
    "    print(\"Entered choice is wrong:\")"
   ]
  },
  {
   "cell_type": "code",
   "execution_count": 24,
   "id": "fcb4033b",
   "metadata": {},
   "outputs": [
    {
     "name": "stdout",
     "output_type": "stream",
     "text": [
      "Enter day between 1 to 78\n",
      "Enter correct chice\n"
     ]
    }
   ],
   "source": [
    "day=['Monday','Tuesday','Wednesday','Thursday','Friday','Saturday','Sunday']\n",
    "ch=int(input(\"Enter day between 1 to 7\"))\n",
    "if ch>0 and ch<8:\n",
    "    print(ch,\"Its\",day[ch-1])\n",
    "else:\n",
    "    print(\"Enter correct chice\")"
   ]
  },
  {
   "cell_type": "markdown",
   "id": "2008a080",
   "metadata": {},
   "source": [
    "# 7.Write a program to perform arithmetic operations between two integer values according to the operator entered by use"
   ]
  },
  {
   "cell_type": "code",
   "execution_count": 19,
   "id": "8c3d39e0",
   "metadata": {},
   "outputs": [
    {
     "name": "stdout",
     "output_type": "stream",
     "text": [
      "Enter first number:=56\n",
      "Enter Second number:=56\n",
      "Enter operator:+\n",
      "***Result is as follows:****\n",
      "56 + 56 = 112\n"
     ]
    }
   ],
   "source": [
    "n1=int(input(\"Enter first number:=\"));\n",
    "n2=int(input(\"Enter Second number:=\"));\n",
    "ch=input(\"Enter operator:\")\n",
    "print(\"***Result is as follows:****\")\n",
    "if ch=='+':\n",
    "    print(n1,ch,n2,\"=\",n1+n2)\n",
    "elif ch=='-':\n",
    "    print(n1,ch,n2,\"=\",n1-n2)\n",
    "elif ch=='*':\n",
    "    print(n1,ch,n2,\"=\",n1*n2)\n",
    "elif ch=='/':\n",
    "    print(n1,ch,n2,\"=\",n1/n2)\n",
    "else:\n",
    "    print(\"Enter Valid character\")\n",
    "       "
   ]
  },
  {
   "cell_type": "code",
   "execution_count": null,
   "id": "744bf4a6",
   "metadata": {},
   "outputs": [],
   "source": []
  }
 ],
 "metadata": {
  "kernelspec": {
   "display_name": "Python 3 (ipykernel)",
   "language": "python",
   "name": "python3"
  },
  "language_info": {
   "codemirror_mode": {
    "name": "ipython",
    "version": 3
   },
   "file_extension": ".py",
   "mimetype": "text/x-python",
   "name": "python",
   "nbconvert_exporter": "python",
   "pygments_lexer": "ipython3",
   "version": "3.11.5"
  }
 },
 "nbformat": 4,
 "nbformat_minor": 5
}
