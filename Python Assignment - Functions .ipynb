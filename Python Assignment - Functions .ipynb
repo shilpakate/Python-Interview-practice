{
 "cells": [
  {
   "cell_type": "markdown",
   "id": "c0d32b8d",
   "metadata": {},
   "source": [
    "# Python Assignment :Functions \n"
   ]
  },
  {
   "cell_type": "markdown",
   "id": "7456e87a",
   "metadata": {},
   "source": [
    "# 1. Write a Python function to find the Max of three numbers. \n"
   ]
  },
  {
   "cell_type": "code",
   "execution_count": 4,
   "id": "4311c77e",
   "metadata": {},
   "outputs": [
    {
     "name": "stdout",
     "output_type": "stream",
     "text": [
      "Enter 1st element:34\n",
      "Enter 2nd element:45\n",
      "Enter 3rd element:67\n",
      "67 is maximum number\n"
     ]
    }
   ],
   "source": [
    "n1=int(input(\"Enter 1st element:\"))\n",
    "n2=int(input(\"Enter 2nd element:\"))\n",
    "n3=int(input(\"Enter 3rd element:\"))\n",
    "\n",
    "def u_max(n1,n2,n3):\n",
    "    if n1>n2 and n1>n3:\n",
    "        print(n1, \"is maximum number\")\n",
    "    elif n2>n1 and n2>n3:\n",
    "         print(n2, \"is maximum number\")\n",
    "    elif n3>n1 and n3>n2: \n",
    "         print(n3, \"is maximum number\")\n",
    "    else:\n",
    "         print(n1,n2,n3,\" All numbers are same\")\n",
    "            \n",
    "u_max(n1,n2,n3)   "
   ]
  },
  {
   "cell_type": "markdown",
   "id": "2efb8f08",
   "metadata": {},
   "source": [
    "# 2. Write a Python function to sum all the numbers in a list.  \n"
   ]
  },
  {
   "cell_type": "code",
   "execution_count": 26,
   "id": "bcccbec4",
   "metadata": {},
   "outputs": [
    {
     "name": "stdout",
     "output_type": "stream",
     "text": [
      "Enter no of elements needs to added into the list:3\n",
      "Enter numbers:2\n",
      "Enter numbers:3\n",
      "Enter numbers:4\n",
      "[2, 3, 4]\n",
      "Total= 9\n"
     ]
    }
   ],
   "source": [
    "# Accept list elements from user\n",
    "def sum_list(ls):\n",
    "    total = 0\n",
    "    for i in ls:\n",
    "        total += i\n",
    "    print(\"Total=\",total)\n",
    "    \n",
    "n=int(input(\"Enter no of elements needs to added into the list:\"))\n",
    "ls=[]\n",
    "for i in range(n):\n",
    "    el=int(input(\"Enter numbers:\"))\n",
    "    ls.append(el)\n",
    "print(ls)\n",
    "sum_list(ls)"
   ]
  },
  {
   "cell_type": "markdown",
   "id": "87ba6138",
   "metadata": {},
   "source": [
    "# 3. Write a Python function to multiply all the numbers in a list. \n"
   ]
  },
  {
   "cell_type": "code",
   "execution_count": 30,
   "id": "335ab454",
   "metadata": {},
   "outputs": [
    {
     "name": "stdout",
     "output_type": "stream",
     "text": [
      "Enter no of elements needs to added into the list:4\n",
      "Enter Element1\n",
      "Enter Element2\n",
      "Enter Element3\n",
      "Enter Element4\n",
      "[1, 2, 3, 4]\n",
      "Total= 24\n"
     ]
    }
   ],
   "source": [
    "# Accept list elements from user\n",
    "def m_list(ls):\n",
    "    total = 1\n",
    "    for i in ls:\n",
    "        total *= i\n",
    "    print(\"Total=\",total)\n",
    "\n",
    "\n",
    "n=int(input(\"Enter no of elements needs to added into the list:\"))\n",
    "ls=[]\n",
    "for i in range(n):\n",
    "    el=int(input(\"Enter Element\"))\n",
    "    ls.append(el)\n",
    "print(ls)\n",
    "m_list(ls)"
   ]
  },
  {
   "cell_type": "markdown",
   "id": "2da558fa",
   "metadata": {},
   "source": [
    "# 4. Write a Python program to reverse a string. \n",
    " "
   ]
  },
  {
   "cell_type": "code",
   "execution_count": 37,
   "id": "e0f6484b",
   "metadata": {},
   "outputs": [
    {
     "name": "stdout",
     "output_type": "stream",
     "text": [
      "aplihS\n"
     ]
    }
   ],
   "source": [
    "\n",
    "def rev(lt):\n",
    "    stack=[]\n",
    "    emt=[]\n",
    "    for char in lt:\n",
    "        if char not in stack:\n",
    "            stack.append(char)\n",
    "    while stack:\n",
    "           emt.append(stack.pop())\n",
    "    return ''.join(emt)\n",
    "\n",
    "lt = 'Shilpa'\n",
    "print(rev(lt))\n"
   ]
  },
  {
   "cell_type": "markdown",
   "id": "1fb97d5a",
   "metadata": {},
   "source": [
    "# 5. Write a Python function to check whether a number falls in a given range. "
   ]
  },
  {
   "cell_type": "code",
   "execution_count": 2,
   "id": "f150ad6a",
   "metadata": {},
   "outputs": [
    {
     "name": "stdout",
     "output_type": "stream",
     "text": [
      "Accept number102\n",
      "102 is not falls in given range\n"
     ]
    }
   ],
   "source": [
    "num = int(input(\"Accept number\"))\n",
    "flag=0\n",
    "for i in range(1,100):\n",
    "    if num==i:\n",
    "        flag=1\n",
    "if flag==1:\n",
    "    print(num,\"is falls in given range\")\n",
    "else:\n",
    "    print(num,\"is not falls in given range\")"
   ]
  },
  {
   "cell_type": "markdown",
   "id": "d93243ec",
   "metadata": {},
   "source": [
    "# 6. Write a Python function that accepts a string and calculate the number of upper case letters \n",
    "and lower case letters."
   ]
  },
  {
   "cell_type": "code",
   "execution_count": 5,
   "id": "c0d15a1a",
   "metadata": {},
   "outputs": [
    {
     "name": "stdout",
     "output_type": "stream",
     "text": [
      "Accept String:Hi Shilpa , Welcome to Python Programming\n",
      "No of uppercase letters are:: 5\n"
     ]
    }
   ],
   "source": [
    "st=input(\"Accept String:\")\n",
    "count=0\n",
    "for char in st:\n",
    "    if char.isupper():\n",
    "        count+=1\n",
    "print(\"No of uppercase letters are::\",count)       "
   ]
  },
  {
   "cell_type": "code",
   "execution_count": null,
   "id": "14cac9b9",
   "metadata": {},
   "outputs": [],
   "source": []
  }
 ],
 "metadata": {
  "kernelspec": {
   "display_name": "Python 3 (ipykernel)",
   "language": "python",
   "name": "python3"
  },
  "language_info": {
   "codemirror_mode": {
    "name": "ipython",
    "version": 3
   },
   "file_extension": ".py",
   "mimetype": "text/x-python",
   "name": "python",
   "nbconvert_exporter": "python",
   "pygments_lexer": "ipython3",
   "version": "3.11.5"
  }
 },
 "nbformat": 4,
 "nbformat_minor": 5
}
