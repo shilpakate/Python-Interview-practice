{
 "cells": [
  {
   "cell_type": "markdown",
   "id": "22f51684",
   "metadata": {},
   "source": [
    "# Python Assignment - Dictionaries- \n",
    "\n"
   ]
  },
  {
   "cell_type": "markdown",
   "id": "546f89f4",
   "metadata": {},
   "source": [
    "# 1. Write a Python script to check whether a given key already exists in a dictionary "
   ]
  },
  {
   "cell_type": "code",
   "execution_count": 14,
   "id": "d8b04439",
   "metadata": {},
   "outputs": [
    {
     "name": "stdout",
     "output_type": "stream",
     "text": [
      "Enter any key::9\n",
      "9 key is not  present in the dictionary\n"
     ]
    }
   ],
   "source": [
    "d1={1:'Shilpa',2:'Vikramaditya',3:'Preshant',4:'Neel',5:'Agastya',6:'Shreejit'}\n",
    "t=int(input(\"Enter any key::\"))\n",
    "flag=0\n",
    "for i in d1.keys():\n",
    "    if i==t:\n",
    "        flag=1\n",
    "        \n",
    "if flag==1:\n",
    "    print(t,\"key is present in the dictionary\")\n",
    "else:\n",
    "      print(t,\"key is not  present in the dictionary\")\n",
    "    "
   ]
  },
  {
   "cell_type": "markdown",
   "id": "b293dc44",
   "metadata": {},
   "source": [
    "# 2. Write a Python program to sum all the items in a dictionary. \n",
    " "
   ]
  },
  {
   "cell_type": "code",
   "execution_count": 21,
   "id": "3d134c0d",
   "metadata": {},
   "outputs": [
    {
     "name": "stdout",
     "output_type": "stream",
     "text": [
      "sum all the items in a dictionary:= 357\n"
     ]
    }
   ],
   "source": [
    "d1={'Eng':45,'Maths':89,'Geo':56,'Phy':89,'Chem':78}\n",
    "total=0\n",
    "for key,value in d1.items():\n",
    "    total+=value\n",
    "print(\"sum all the items in a dictionary:=\",total)\n",
    "    "
   ]
  },
  {
   "cell_type": "markdown",
   "id": "1b3ae229",
   "metadata": {},
   "source": [
    "# 3. Write a Python program to multiply all the items in a dictionary.  "
   ]
  },
  {
   "cell_type": "code",
   "execution_count": 22,
   "id": "e3a5330f",
   "metadata": {},
   "outputs": [
    {
     "name": "stdout",
     "output_type": "stream",
     "text": [
      "Multiplication of all the items in a dictionary:= 1556951760\n"
     ]
    }
   ],
   "source": [
    "d1={'Eng':45,'Maths':89,'Geo':56,'Phy':89,'Chem':78}\n",
    "total=1\n",
    "for key,value in d1.items():\n",
    "    total*=value\n",
    "print(\"Multiplication of all the items in a dictionary:=\",total)\n",
    "    "
   ]
  },
  {
   "cell_type": "markdown",
   "id": "3e7ce86f",
   "metadata": {},
   "source": [
    "# 4. Write a Python program to sort a given dictionary by key. \n"
   ]
  },
  {
   "cell_type": "code",
   "execution_count": 39,
   "id": "26eeff37",
   "metadata": {},
   "outputs": [
    {
     "name": "stdout",
     "output_type": "stream",
     "text": [
      "Chem : 78\n",
      "Eng : 45\n",
      "Geo : 56\n",
      "Maths : 89\n",
      "Phy : 89\n"
     ]
    }
   ],
   "source": [
    "d1={'Eng':45,'Maths':89,'Geo':56,'Phy':89,'Chem':78}\n",
    "sort_dict=dict(sorted(d1.items()))\n",
    "for i ,value in sort_dict.items():\n",
    "   print(i,\":\",value)"
   ]
  },
  {
   "cell_type": "markdown",
   "id": "c56ea389",
   "metadata": {},
   "source": [
    "# 5. Write a Python program to get the maximum and minimum value in a dictionary."
   ]
  },
  {
   "cell_type": "code",
   "execution_count": 47,
   "id": "20b96d86",
   "metadata": {},
   "outputs": [
    {
     "name": "stdout",
     "output_type": "stream",
     "text": [
      "Minium scored subject is:= Eng\n",
      "Maximum scored subject is:= Maths\n"
     ]
    }
   ],
   "source": [
    "d1 = {'Eng': 45, 'Maths': 89, 'Geo': 56, 'Phy': 89, 'Chem': 78}\n",
    "min_key = min(d1, key=d1.get)\n",
    "print(\"Minium scored subject is:=\",min_key)\n",
    "max_key = max(d1, key=d1.get)\n",
    "print(\"Maximum scored subject is:=\",max_key)"
   ]
  },
  {
   "cell_type": "code",
   "execution_count": null,
   "id": "465ec85e",
   "metadata": {},
   "outputs": [],
   "source": []
  }
 ],
 "metadata": {
  "kernelspec": {
   "display_name": "Python 3 (ipykernel)",
   "language": "python",
   "name": "python3"
  },
  "language_info": {
   "codemirror_mode": {
    "name": "ipython",
    "version": 3
   },
   "file_extension": ".py",
   "mimetype": "text/x-python",
   "name": "python",
   "nbconvert_exporter": "python",
   "pygments_lexer": "ipython3",
   "version": "3.11.5"
  }
 },
 "nbformat": 4,
 "nbformat_minor": 5
}
