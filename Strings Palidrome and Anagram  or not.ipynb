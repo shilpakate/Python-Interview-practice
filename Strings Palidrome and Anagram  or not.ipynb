{
 "cells": [
  {
   "cell_type": "markdown",
   "id": "42a3b80f",
   "metadata": {},
   "source": [
    "# You are given list of string ,. Write function that filter out all the strings that are palidrome"
   ]
  },
  {
   "cell_type": "code",
   "execution_count": 5,
   "id": "c26539f5",
   "metadata": {},
   "outputs": [
    {
     "name": "stdout",
     "output_type": "stream",
     "text": [
      "['radar', 'level']\n"
     ]
    }
   ],
   "source": [
    "def is_palindrome(s):\n",
    "    s=''.join(e for e in s if e.isalnum()) # Remove the punctuation and spaces\n",
    "    return s.lower()==s.lower()[::-1]\n",
    "def filter_palindrome(strings):\n",
    "    return[s for s in strings if is_palindrome(s)]\n",
    "words=[\"radar\",\"python\",\"level\",\"world\"]\n",
    "print(filter_palindrome(words))"
   ]
  },
  {
   "cell_type": "markdown",
   "id": "782a3c6f",
   "metadata": {},
   "source": [
    "# Find out the strings are Anagram or not"
   ]
  },
  {
   "cell_type": "code",
   "execution_count": 6,
   "id": "b5a5074e",
   "metadata": {},
   "outputs": [
    {
     "name": "stdout",
     "output_type": "stream",
     "text": [
      "True\n"
     ]
    }
   ],
   "source": [
    "def are_anagrams(str1,str2):\n",
    "    return sorted(str1)==sorted(str2)\n",
    "str1=\"listen\"\n",
    "str2=\"silent\"\n",
    "print(are_anagrams(str1,str2))"
   ]
  },
  {
   "cell_type": "code",
   "execution_count": null,
   "id": "ebff1672",
   "metadata": {},
   "outputs": [],
   "source": []
  }
 ],
 "metadata": {
  "kernelspec": {
   "display_name": "Python 3 (ipykernel)",
   "language": "python",
   "name": "python3"
  },
  "language_info": {
   "codemirror_mode": {
    "name": "ipython",
    "version": 3
   },
   "file_extension": ".py",
   "mimetype": "text/x-python",
   "name": "python",
   "nbconvert_exporter": "python",
   "pygments_lexer": "ipython3",
   "version": "3.11.5"
  }
 },
 "nbformat": 4,
 "nbformat_minor": 5
}
