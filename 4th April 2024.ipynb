{
 "cells": [
  {
   "cell_type": "code",
   "execution_count": 2,
   "id": "186f7796",
   "metadata": {},
   "outputs": [
    {
     "name": "stdout",
     "output_type": "stream",
     "text": [
      "4\n",
      "12\n",
      "24\n"
     ]
    }
   ],
   "source": [
    "r = lambda q: q * 2\n",
    "s = lambda q: q * 3\n",
    "x = 2\n",
    "x = r(x)\n",
    "print(x)\n",
    "x = s(x)\n",
    "print(x)\n",
    "x = r(x)\n",
    "print (x)\n"
   ]
  },
  {
   "cell_type": "code",
   "execution_count": 4,
   "id": "1b97acf6",
   "metadata": {},
   "outputs": [
    {
     "name": "stdout",
     "output_type": "stream",
     "text": [
      "<class 'list'>\n"
     ]
    }
   ],
   "source": [
    "#9) What data type is the object below?\n",
    "p=[1,23,'hi',1]\n",
    "print(type(p))"
   ]
  },
  {
   "cell_type": "code",
   "execution_count": 5,
   "id": "ea8b1345",
   "metadata": {},
   "outputs": [
    {
     "data": {
      "text/plain": [
       "[1, 2, 'hello', ' ']"
      ]
     },
     "execution_count": 5,
     "metadata": {},
     "output_type": "execute_result"
    }
   ],
   "source": [
    "#5) What will be the output of the following python code?\n",
    "l=[1,0,2,0,\"hello\",\" \", []]\n",
    "list(filter(bool, l))"
   ]
  },
  {
   "cell_type": "code",
   "execution_count": 6,
   "id": "6b352ac7",
   "metadata": {},
   "outputs": [
    {
     "name": "stdout",
     "output_type": "stream",
     "text": [
      "2.0\n"
     ]
    }
   ],
   "source": [
    "#8) Predict the output?\n",
    "a=4.5\n",
    "b=2\n",
    "print(a//b)"
   ]
  },
  {
   "cell_type": "code",
   "execution_count": 10,
   "id": "9577e34b",
   "metadata": {},
   "outputs": [
    {
     "data": {
      "text/plain": [
       "False"
      ]
     },
     "execution_count": 10,
     "metadata": {},
     "output_type": "execute_result"
    }
   ],
   "source": [
    " #What will be the output for the following python functio\n",
    "max(False,-3,-4)\n"
   ]
  },
  {
   "cell_type": "code",
   "execution_count": 16,
   "id": "1b438045",
   "metadata": {},
   "outputs": [
    {
     "name": "stdout",
     "output_type": "stream",
     "text": [
      "4\n"
     ]
    }
   ],
   "source": [
    "#7) \n",
    "count = 1 \n",
    "  \n",
    "def doThis():\n",
    "  \n",
    "    global count\n",
    "  \n",
    "    for i in (1, 2, 3): \n",
    "        count += 1\n",
    "doThis()\n",
    "  \n",
    "print (count)"
   ]
  },
  {
   "cell_type": "code",
   "execution_count": 17,
   "id": "c064a8dc",
   "metadata": {},
   "outputs": [
    {
     "name": "stdout",
     "output_type": "stream",
     "text": [
      "48\n"
     ]
    }
   ],
   "source": [
    "#11) Predict the output?\n",
    "y=8\n",
    "z=lambda x:x*y\n",
    "print(z(6))"
   ]
  },
  {
   "cell_type": "code",
   "execution_count": 1,
   "id": "87ad04cc",
   "metadata": {},
   "outputs": [
    {
     "name": "stdout",
     "output_type": "stream",
     "text": [
      "False\n"
     ]
    }
   ],
   "source": [
    "#13) Predict the output?\n",
    "print(0.1+0.2==0.3)"
   ]
  },
  {
   "cell_type": "code",
   "execution_count": 28,
   "id": "c6fdba62",
   "metadata": {},
   "outputs": [
    {
     "name": "stdout",
     "output_type": "stream",
     "text": [
      "1111\n"
     ]
    }
   ],
   "source": [
    "class Acc:\n",
    "    def __init__(self, id):\n",
    "        self.id = id\n",
    "        id = 555\n",
    " \n",
    "acc = Acc(1111)\n",
    "print (acc.id)"
   ]
  },
  {
   "cell_type": "code",
   "execution_count": 40,
   "id": "d49bd6eb",
   "metadata": {},
   "outputs": [
    {
     "name": "stdout",
     "output_type": "stream",
     "text": [
      "0b100\n"
     ]
    },
    {
     "data": {
      "text/plain": [
       "4"
      ]
     },
     "execution_count": 40,
     "metadata": {},
     "output_type": "execute_result"
    }
   ],
   "source": [
    "x=1\n",
    "print(bin(4))\n",
    "x>>2\n",
    "x<<2"
   ]
  },
  {
   "cell_type": "code",
   "execution_count": 42,
   "id": "ee48dee5",
   "metadata": {},
   "outputs": [
    {
     "name": "stdout",
     "output_type": "stream",
     "text": [
      "Hello Hello Hello\n"
     ]
    }
   ],
   "source": [
    "import re\n",
    "n = re.sub(r'\\w+', 'Hello', 'Cats and dogs')\n",
    "print(n)"
   ]
  },
  {
   "cell_type": "code",
   "execution_count": 43,
   "id": "0fc56434",
   "metadata": {},
   "outputs": [
    {
     "name": "stdout",
     "output_type": "stream",
     "text": [
      "python\n"
     ]
    }
   ],
   "source": [
    "a=True\n",
    "b=False\n",
    "c=False\n",
    "if(a or b and c):\n",
    "        print(\"python\")\n",
    "else:\n",
    "        print(\"programming\")"
   ]
  },
  {
   "cell_type": "code",
   "execution_count": 4,
   "id": "ff598f4a",
   "metadata": {},
   "outputs": [
    {
     "name": "stdout",
     "output_type": "stream",
     "text": [
      "['ab', 'cd']\n"
     ]
    }
   ],
   "source": [
    "#3)What is the output of the following program?\n",
    "x=['ab','cd']\n",
    "l=[]\n",
    "for i in x:\n",
    "    i.upper()\n",
    "print(x)"
   ]
  },
  {
   "cell_type": "code",
   "execution_count": 49,
   "id": "0f247691",
   "metadata": {},
   "outputs": [
    {
     "ename": "TypeError",
     "evalue": "'int' object is not iterable",
     "output_type": "error",
     "traceback": [
      "\u001b[1;31m---------------------------------------------------------------------------\u001b[0m",
      "\u001b[1;31mTypeError\u001b[0m                                 Traceback (most recent call last)",
      "Cell \u001b[1;32mIn[49], line 3\u001b[0m\n\u001b[0;32m      1\u001b[0m \u001b[38;5;66;03m#8)Predict the output?\u001b[39;00m\n\u001b[0;32m      2\u001b[0m x \u001b[38;5;241m=\u001b[39m \u001b[38;5;241m123\u001b[39m\n\u001b[1;32m----> 3\u001b[0m \u001b[38;5;28;01mfor\u001b[39;00m i \u001b[38;5;129;01min\u001b[39;00m x:\n\u001b[0;32m      4\u001b[0m     \u001b[38;5;28mprint\u001b[39m(i,end\u001b[38;5;241m=\u001b[39m\u001b[38;5;124m'\u001b[39m\u001b[38;5;124m \u001b[39m\u001b[38;5;124m'\u001b[39m)\n",
      "\u001b[1;31mTypeError\u001b[0m: 'int' object is not iterable"
     ]
    }
   ],
   "source": [
    "#8)Predict the output?\n",
    "x = 123\n",
    "for i in x:\n",
    "    print(i,end=' ')"
   ]
  },
  {
   "cell_type": "code",
   "execution_count": 55,
   "id": "8a34efd4",
   "metadata": {},
   "outputs": [
    {
     "name": "stdout",
     "output_type": "stream",
     "text": [
      "<class 'list'>\n",
      "[1, 2, 3, 4] \n",
      "****\n",
      "((4, 6, 8), 10)\n"
     ]
    }
   ],
   "source": [
    "#Predict the output?\n",
    "D = {1 : [1, 2, 3], 2: (4, 6, 8)}\n",
    "print(type(D[1]))\n",
    "D[1].append(4)\n",
    "print(D[1], end = \" \")\n",
    "print(\"\\n****\")\n",
    "L = [D[2]]\n",
    "#print(L)\n",
    "L.append(10)\n",
    "D[2] = tuple(L)\n",
    "print(D[2])"
   ]
  },
  {
   "cell_type": "code",
   "execution_count": 57,
   "id": "3947dd98",
   "metadata": {},
   "outputs": [
    {
     "name": "stdout",
     "output_type": "stream",
     "text": [
      "['Wh', 't will h', 've so will']\n",
      "Wh t will h ve so will "
     ]
    }
   ],
   "source": [
    "#14)Predict the output?\n",
    "line =  \"What will have so will\"\n",
    "L = line.split('a')\n",
    "print(L)\n",
    "for i in L:\n",
    "    print(i, end=' ')"
   ]
  },
  {
   "cell_type": "code",
   "execution_count": 59,
   "id": "a7a519a7",
   "metadata": {},
   "outputs": [
    {
     "ename": "TypeError",
     "evalue": "unsupported operand type(s) for +: 'set' and 'set'",
     "output_type": "error",
     "traceback": [
      "\u001b[1;31m---------------------------------------------------------------------------\u001b[0m",
      "\u001b[1;31mTypeError\u001b[0m                                 Traceback (most recent call last)",
      "Cell \u001b[1;32mIn[59], line 3\u001b[0m\n\u001b[0;32m      1\u001b[0m s1\u001b[38;5;241m=\u001b[39m{\u001b[38;5;241m1\u001b[39m,\u001b[38;5;241m2\u001b[39m,\u001b[38;5;241m3\u001b[39m}\n\u001b[0;32m      2\u001b[0m s2\u001b[38;5;241m=\u001b[39m{\u001b[38;5;241m3\u001b[39m,\u001b[38;5;241m7\u001b[39m,\u001b[38;5;241m8\u001b[39m,\u001b[38;5;241m9\u001b[39m}\n\u001b[1;32m----> 3\u001b[0m \u001b[38;5;28mprint\u001b[39m(\u001b[38;5;28mlen\u001b[39m(s1\u001b[38;5;241m+\u001b[39ms2))\n",
      "\u001b[1;31mTypeError\u001b[0m: unsupported operand type(s) for +: 'set' and 'set'"
     ]
    }
   ],
   "source": [
    "s1={1,2,3}\n",
    "s2={3,7,8,9}\n",
    "print(len(s1+s2))"
   ]
  },
  {
   "cell_type": "code",
   "execution_count": 63,
   "id": "c4aeb619",
   "metadata": {},
   "outputs": [
    {
     "name": "stdout",
     "output_type": "stream",
     "text": [
      "No match\n"
     ]
    }
   ],
   "source": [
    "import re\n",
    "s='An apple'\n",
    "p='^a'\n",
    "if(re.match(s,p)):\n",
    "     print(\"match\")\n",
    "else:\n",
    "     print(\"No match\")"
   ]
  },
  {
   "cell_type": "code",
   "execution_count": 65,
   "id": "00bbbdd5",
   "metadata": {},
   "outputs": [
    {
     "name": "stdout",
     "output_type": "stream",
     "text": [
      "No match\n"
     ]
    }
   ],
   "source": [
    "import re\n",
    "s = 'An apple'\n",
    "p = '^a'\n",
    "if re.match(p, s):\n",
    "    print(\"match\")\n",
    "else:\n",
    "    print(\"No match\")\n"
   ]
  },
  {
   "cell_type": "code",
   "execution_count": 70,
   "id": "2acf607e",
   "metadata": {},
   "outputs": [
    {
     "name": "stdout",
     "output_type": "stream",
     "text": [
      "0 0\n",
      "0 1\n",
      "1 0\n",
      "1 1\n",
      "2 0\n",
      "2 1\n",
      "{0: 1, 1: 1, 2: 1}\n"
     ]
    }
   ],
   "source": [
    "#11)Predict the output?\n",
    "D = dict()\n",
    "for i in range (3):\n",
    "    for j in range(2):\n",
    "        D[i] = j\n",
    "        print(i,j)\n",
    "print(D)"
   ]
  },
  {
   "cell_type": "code",
   "execution_count": 76,
   "id": "d7b8271e",
   "metadata": {},
   "outputs": [
    {
     "name": "stdout",
     "output_type": "stream",
     "text": [
      "[1, 2, 3, 4, 1]\n",
      "5\n"
     ]
    }
   ],
   "source": [
    "#7)Predict the output?\n",
    "def fun(l):   \n",
    "      l+= [1] \n",
    "      print(l)\n",
    "mylist = [1, 2, 3, 4]\n",
    "fun(mylist)\n",
    "print(len(mylist))"
   ]
  },
  {
   "cell_type": "code",
   "execution_count": 77,
   "id": "3c5f94e0",
   "metadata": {},
   "outputs": [
    {
     "name": "stdout",
     "output_type": "stream",
     "text": [
      "1\n",
      "2\n"
     ]
    }
   ],
   "source": [
    "#15) Predict the output?\n",
    "i = 1\n",
    "while True:\n",
    "    if i%3 == 0:\n",
    "        break\n",
    "    print(i)\n",
    "    i+=1"
   ]
  },
  {
   "cell_type": "code",
   "execution_count": 79,
   "id": "15e806a0",
   "metadata": {},
   "outputs": [
    {
     "name": "stdout",
     "output_type": "stream",
     "text": [
      "{'a', 'b', 'c'}\n",
      "{'c', 'san', 'a', 'p', 'b', 'q'}\n"
     ]
    }
   ],
   "source": [
    "#6) Predict the output?\n",
    "z=set('abc')\n",
    "print(z)\n",
    "z.add('san')\n",
    "z.update(set(['p', 'q']))\n",
    "print(z)"
   ]
  },
  {
   "cell_type": "code",
   "execution_count": 93,
   "id": "2faeedb8",
   "metadata": {},
   "outputs": [
    {
     "name": "stdout",
     "output_type": "stream",
     "text": [
      "1\n",
      "2\n",
      "2\n",
      "3\n"
     ]
    }
   ],
   "source": [
    "#9) Predict the output?\n",
    "D = {1 : 1, 2 : '2', '1' : 2, '2' : 3}\n",
    "#print(D['1'])\n",
    "D['1'] = 2\n",
    "print(str(D[1]))\n",
    "print(D[str(D[1])])\n",
    "print(D[D[str(D[1])]])\n",
    "print(D[D[D[str(D[1])]]])"
   ]
  },
  {
   "cell_type": "code",
   "execution_count": 99,
   "id": "50aca8c8",
   "metadata": {},
   "outputs": [
    {
     "name": "stdout",
     "output_type": "stream",
     "text": [
      "2\n"
     ]
    }
   ],
   "source": [
    "#10) Predict the output?\n",
    "k=0\n",
    "def foo():\n",
    "    try:\n",
    "        return 1\n",
    "    finally:\n",
    "        return 2\n",
    "k = foo()\n",
    "print(k)"
   ]
  },
  {
   "cell_type": "code",
   "execution_count": 109,
   "id": "4ec62d47",
   "metadata": {},
   "outputs": [
    {
     "name": "stdout",
     "output_type": "stream",
     "text": [
      "Enter Password:=90\n",
      "Enter Retype password:=90\n",
      "Congratulation !! Entered password and retype password are same\n"
     ]
    }
   ],
   "source": [
    "#2)Write a function to return  True if user entered password and retype password are same or not?\n",
    "def to_compare_password(password,Retype_password):\n",
    "    if password==Retype_password:\n",
    "        return True\n",
    "    \n",
    "password=input(\"Enter Password:=\")\n",
    "Retype_password=input(\"Enter Retype password:=\")\n",
    "\n",
    "if to_compare_password(password,Retype_password):\n",
    "    print(\"Congratulation !! Entered password and retype password are same\")\n",
    "else:\n",
    "    print(\"Entered password and retype password are not same.\")\n",
    "    \n",
    "    "
   ]
  },
  {
   "cell_type": "code",
   "execution_count": 177,
   "id": "894cfc2e",
   "metadata": {},
   "outputs": [
    {
     "name": "stdout",
     "output_type": "stream",
     "text": [
      "Enter String: maam\n",
      "It's a Palindrome as entered string: maam and its reverse: maam are equal\n"
     ]
    }
   ],
   "source": [
    "S = input(\"Enter String: \")\n",
    "stack = []\n",
    "for i in S:\n",
    "    stack.append(i)\n",
    "\n",
    "rev_list = []\n",
    "while stack:\n",
    "    rev_list.append(stack.pop())\n",
    "\n",
    "    rev = \"\".join(rev_list)\n",
    "\n",
    "if S.lower() == rev.lower():\n",
    "    print(\"It's a Palindrome as entered string:\", S.lower(), \"and its reverse:\", rev.lower(), \"are equal\")\n",
    "else:\n",
    "    print(\"It's Not a Palindrome as entered string:\", S.lower(), \"and its reverse:\", rev.lower(), \"are not equal\")\n"
   ]
  },
  {
   "cell_type": "code",
   "execution_count": 5,
   "id": "22169515",
   "metadata": {},
   "outputs": [
    {
     "name": "stdout",
     "output_type": "stream",
     "text": [
      "12\n"
     ]
    }
   ],
   "source": [
    "class tester:    \n",
    "          def __init__(self, id):        \n",
    "               self.id = str(id)        \n",
    "               id=\"224\" \n",
    "t= tester(12)\n",
    "print(t.id)"
   ]
  },
  {
   "cell_type": "code",
   "execution_count": 6,
   "id": "57d45bc9",
   "metadata": {},
   "outputs": [
    {
     "ename": "TypeError",
     "evalue": "unsupported operand type(s) for +: 'set' and 'set'",
     "output_type": "error",
     "traceback": [
      "\u001b[1;31m---------------------------------------------------------------------------\u001b[0m",
      "\u001b[1;31mTypeError\u001b[0m                                 Traceback (most recent call last)",
      "Cell \u001b[1;32mIn[6], line 3\u001b[0m\n\u001b[0;32m      1\u001b[0m s1\u001b[38;5;241m=\u001b[39m{\u001b[38;5;241m1\u001b[39m,\u001b[38;5;241m2\u001b[39m,\u001b[38;5;241m3\u001b[39m}\n\u001b[0;32m      2\u001b[0m s2\u001b[38;5;241m=\u001b[39m{\u001b[38;5;241m3\u001b[39m,\u001b[38;5;241m7\u001b[39m,\u001b[38;5;241m8\u001b[39m,\u001b[38;5;241m9\u001b[39m}\n\u001b[1;32m----> 3\u001b[0m \u001b[38;5;28mprint\u001b[39m(\u001b[38;5;28mlen\u001b[39m(s1\u001b[38;5;241m+\u001b[39ms2))\n",
      "\u001b[1;31mTypeError\u001b[0m: unsupported operand type(s) for +: 'set' and 'set'"
     ]
    }
   ],
   "source": [
    "s1={1,2,3}\n",
    "s2={3,7,8,9}\n",
    "print(len(s1+s2))"
   ]
  },
  {
   "cell_type": "code",
   "execution_count": 8,
   "id": "16b86449",
   "metadata": {},
   "outputs": [
    {
     "name": "stdout",
     "output_type": "stream",
     "text": [
      "{0: 1, 1: 1, 2: 1}\n"
     ]
    }
   ],
   "source": [
    "D = dict()\n",
    "for i in range (3):\n",
    "    for j in range(2):\n",
    "        D[i] = j\n",
    "print(D)"
   ]
  },
  {
   "cell_type": "code",
   "execution_count": 9,
   "id": "6e1fb85e",
   "metadata": {},
   "outputs": [
    {
     "name": "stdout",
     "output_type": "stream",
     "text": [
      "No match\n"
     ]
    }
   ],
   "source": [
    "import re\n",
    "s='An apple'\n",
    "p='^a'\n",
    "if(re.match(s,p)):\n",
    "     print(\"match\")\n",
    "else:\n",
    "     print(\"No match\")"
   ]
  },
  {
   "cell_type": "code",
   "execution_count": 10,
   "id": "1f69d257",
   "metadata": {},
   "outputs": [
    {
     "name": "stdout",
     "output_type": "stream",
     "text": [
      "1\n",
      "2\n"
     ]
    }
   ],
   "source": [
    "i = 1\n",
    "while True:\n",
    "    if i%3 == 0:\n",
    "        break\n",
    "    print(i)\n",
    "    i+=1"
   ]
  },
  {
   "cell_type": "code",
   "execution_count": 11,
   "id": "9428c67f",
   "metadata": {},
   "outputs": [
    {
     "name": "stdout",
     "output_type": "stream",
     "text": [
      "Hello Hello Hello\n"
     ]
    }
   ],
   "source": [
    "n = re.sub(r'\\w+', 'Hello', 'Cats and dogs')\n",
    "print(n)"
   ]
  },
  {
   "cell_type": "code",
   "execution_count": 12,
   "id": "01cfdba1",
   "metadata": {},
   "outputs": [
    {
     "name": "stdout",
     "output_type": "stream",
     "text": [
      "[1, 2, 3, 4] ((4, 6, 8), 10)\n"
     ]
    }
   ],
   "source": [
    "D = {1 : [1, 2, 3], 2: (4, 6, 8)}\n",
    "D[1].append(4)\n",
    "print(D[1], end = \" \")\n",
    "L = [D[2]]\n",
    "L.append(10)\n",
    "D[2] = tuple(L)\n",
    "print(D[2])"
   ]
  },
  {
   "cell_type": "code",
   "execution_count": null,
   "id": "c6a29849",
   "metadata": {},
   "outputs": [],
   "source": []
  }
 ],
 "metadata": {
  "kernelspec": {
   "display_name": "Python 3 (ipykernel)",
   "language": "python",
   "name": "python3"
  },
  "language_info": {
   "codemirror_mode": {
    "name": "ipython",
    "version": 3
   },
   "file_extension": ".py",
   "mimetype": "text/x-python",
   "name": "python",
   "nbconvert_exporter": "python",
   "pygments_lexer": "ipython3",
   "version": "3.11.5"
  }
 },
 "nbformat": 4,
 "nbformat_minor": 5
}
