{
 "cells": [
  {
   "cell_type": "markdown",
   "id": "2672613e",
   "metadata": {},
   "source": [
    "# Python Assignment :Strings \n",
    "1. Write a program to print your  entered name in reverse order. \n",
    "2. Write a program to print every third character of entered string. \n",
    "3. Write a program to find the number of characters present in string without using len() \n",
    "4. Write a program to print the number of vowels present in entered string. \n",
    "5. Write a program to find a character present in string or not?if present in which index it is \n",
    "present .and how many times it is present. "
   ]
  },
  {
   "cell_type": "markdown",
   "id": "3acd16a2",
   "metadata": {},
   "source": [
    "# 1.Write a program to print your entered name in reverse order."
   ]
  },
  {
   "cell_type": "code",
   "execution_count": 2,
   "id": "61e36eed",
   "metadata": {},
   "outputs": [
    {
     "name": "stdout",
     "output_type": "stream",
     "text": [
      "etaKaplihS\n"
     ]
    }
   ],
   "source": [
    "st=\"ShilpaKate\"\n",
    "st[::-1]\n",
    "print(st[::-1])"
   ]
  },
  {
   "cell_type": "code",
   "execution_count": 22,
   "id": "8045faa4",
   "metadata": {},
   "outputs": [
    {
     "name": "stdout",
     "output_type": "stream",
     "text": [
      "etkaplihS\n"
     ]
    }
   ],
   "source": [
    "Word=\"Shilpakate\"\n",
    "stack=[]\n",
    "reverse=[]\n",
    "for char in Word:\n",
    "    if char not in stack:\n",
    "        stack.append(char)\n",
    "while stack:\n",
    "    reverse.append(stack.pop())\n",
    "result=\"\".join(reverse)\n",
    "print(result)"
   ]
  },
  {
   "cell_type": "markdown",
   "id": "4dafcf7e",
   "metadata": {},
   "source": [
    "# 2.Write a program to print every third character of entered string.\n"
   ]
  },
  {
   "cell_type": "code",
   "execution_count": 35,
   "id": "4876da53",
   "metadata": {},
   "outputs": [
    {
     "name": "stdout",
     "output_type": "stream",
     "text": [
      "Every thrid character of Entered string:= i\n"
     ]
    }
   ],
   "source": [
    "Word=\"Shilpakate\"\n",
    "print(\"Every thrid character of Entered string:=\",Word[2])"
   ]
  },
  {
   "cell_type": "markdown",
   "id": "b1fe3c7c",
   "metadata": {},
   "source": [
    "# 3.Write a program to find the number of characters present in string without using len()\n"
   ]
  },
  {
   "cell_type": "code",
   "execution_count": 40,
   "id": "9998f0b3",
   "metadata": {},
   "outputs": [
    {
     "name": "stdout",
     "output_type": "stream",
     "text": [
      "No of characters are: 10\n"
     ]
    }
   ],
   "source": [
    "Word=\"Shilpakate\"\n",
    "count=0\n",
    "for char in Word:\n",
    "    count+=1\n",
    "print(\"No of characters are:\",count)"
   ]
  },
  {
   "cell_type": "markdown",
   "id": "81b8e00c",
   "metadata": {},
   "source": [
    "# 4.Write a program to print the number of vowels present in entered string.\n"
   ]
  },
  {
   "cell_type": "code",
   "execution_count": 43,
   "id": "28a6f9bb",
   "metadata": {},
   "outputs": [
    {
     "name": "stdout",
     "output_type": "stream",
     "text": [
      "No of vowels are: 10\n"
     ]
    }
   ],
   "source": [
    "Word=\" I love python , what about you?\"\n",
    "count=0\n",
    "for char in Word:\n",
    "    if char in 'aeiouAEIOU':\n",
    "        count=count+1\n",
    "print(\"No of vowels are:\",count)"
   ]
  },
  {
   "cell_type": "markdown",
   "id": "91e0d05e",
   "metadata": {},
   "source": [
    "# 5.Write a program to find a character present in string or not?if present in which index it is present .and how many times it is present"
   ]
  },
  {
   "cell_type": "code",
   "execution_count": 84,
   "id": "1c08a5de",
   "metadata": {},
   "outputs": [
    {
     "name": "stdout",
     "output_type": "stream",
     "text": [
      "Enter character which have to serach:p\n",
      "p is present at location: 18\n",
      "How many times p is present: 2\n"
     ]
    }
   ],
   "source": [
    "Statement='Python is dynamic programming'\n",
    "char=input(\"Enter character which have to serach:\")\n",
    "count=0\n",
    "if char in Statement:  \n",
    "    for i in  Statement.lower():\n",
    "        if i==char:\n",
    "            count+=1\n",
    "    print(char,\"is present at location:\", Statement.index(char))\n",
    "    print(\"How many times\",char,\"is present:\",count)\n",
    "else:\n",
    "    print(char,'is not present')\n",
    "    "
   ]
  },
  {
   "cell_type": "code",
   "execution_count": null,
   "id": "d3494f4e",
   "metadata": {},
   "outputs": [],
   "source": []
  },
  {
   "cell_type": "code",
   "execution_count": null,
   "id": "311fdcc9",
   "metadata": {},
   "outputs": [],
   "source": []
  }
 ],
 "metadata": {
  "kernelspec": {
   "display_name": "Python 3 (ipykernel)",
   "language": "python",
   "name": "python3"
  },
  "language_info": {
   "codemirror_mode": {
    "name": "ipython",
    "version": 3
   },
   "file_extension": ".py",
   "mimetype": "text/x-python",
   "name": "python",
   "nbconvert_exporter": "python",
   "pygments_lexer": "ipython3",
   "version": "3.11.5"
  }
 },
 "nbformat": 4,
 "nbformat_minor": 5
}
