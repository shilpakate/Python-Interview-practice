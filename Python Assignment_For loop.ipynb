{
 "cells": [
  {
   "cell_type": "markdown",
   "id": "68ef5a6e",
   "metadata": {},
   "source": [
    "# Python Assignment:For loop \n",
    "1. Write a program to print the factorial of entered number. \n",
    "2. Write a program to print sum of first five positive integer numbers. \n",
    "3. Write a program to find entered number is prime or not. \n",
    "4. Write a program to print all the even numbers between 1 to 20 "
   ]
  },
  {
   "cell_type": "markdown",
   "id": "96a660e7",
   "metadata": {},
   "source": [
    "# 1.Write a program to print the factorial of entered number.\n"
   ]
  },
  {
   "cell_type": "code",
   "execution_count": 8,
   "id": "dc9ca951",
   "metadata": {},
   "outputs": [
    {
     "name": "stdout",
     "output_type": "stream",
     "text": [
      "Enter any number:4\n",
      "Factorial of 4 =: 24\n"
     ]
    }
   ],
   "source": [
    "num=int(input(\"Enter any number:\"))\n",
    "fact=1\n",
    "for i in range(1,num+1):\n",
    "    fact*=i\n",
    "print(\"Factorial of\",num,\"=:\",fact)"
   ]
  },
  {
   "cell_type": "markdown",
   "id": "ec6ef213",
   "metadata": {},
   "source": [
    "# 2.Write a program to print sum of first five positive integer numbers.\n"
   ]
  },
  {
   "cell_type": "code",
   "execution_count": 29,
   "id": "0c74511c",
   "metadata": {},
   "outputs": [
    {
     "name": "stdout",
     "output_type": "stream",
     "text": [
      "Addition of first five positive integer elements:\n",
      "15\n"
     ]
    }
   ],
   "source": [
    "print(\"Addition of first five positive integer elements:\")\n",
    "sum=0\n",
    "for i in range(1,6):\n",
    "    sum+=i\n",
    "print(sum)"
   ]
  },
  {
   "cell_type": "markdown",
   "id": "fa472744",
   "metadata": {},
   "source": [
    "# 3.Write a program to find entered number is prime or not.\n"
   ]
  },
  {
   "cell_type": "code",
   "execution_count": 63,
   "id": "0ade20b3",
   "metadata": {},
   "outputs": [
    {
     "name": "stdout",
     "output_type": "stream",
     "text": [
      "Enter number:19\n",
      "19 is Prime\n"
     ]
    }
   ],
   "source": [
    "num=int(input(\"Enter number:\"))\n",
    "flag=0\n",
    "if num>2:\n",
    "    for i in range(2,10):\n",
    "        if num % i == 0:\n",
    "            flag=1\n",
    "else:\n",
    "    print(\"Enter valid number greater than 2\")\n",
    "    \n",
    "if flag==0:\n",
    "    print(num, \"is Prime\")\n",
    "else:\n",
    "    print(num,\"is not prime\")\n",
    "    "
   ]
  },
  {
   "cell_type": "markdown",
   "id": "54f70743",
   "metadata": {},
   "source": [
    "# 4.Write a program to print all the even numbers between 1 to 20"
   ]
  },
  {
   "cell_type": "code",
   "execution_count": 65,
   "id": "a4c5d9ff",
   "metadata": {},
   "outputs": [
    {
     "name": "stdout",
     "output_type": "stream",
     "text": [
      " Even numbers between range 1 to 20 are:\n",
      "2\n",
      "4\n",
      "6\n",
      "8\n",
      "10\n",
      "12\n",
      "14\n",
      "16\n",
      "18\n",
      "20\n"
     ]
    }
   ],
   "source": [
    "\n",
    "print(\" Even numbers between range 1 to 20 are:\")\n",
    "for i in range(1,21):\n",
    "    if i%2 == 0:\n",
    "        print(i)\n",
    "        "
   ]
  },
  {
   "cell_type": "code",
   "execution_count": null,
   "id": "5f9240b2",
   "metadata": {},
   "outputs": [],
   "source": []
  }
 ],
 "metadata": {
  "kernelspec": {
   "display_name": "Python 3 (ipykernel)",
   "language": "python",
   "name": "python3"
  },
  "language_info": {
   "codemirror_mode": {
    "name": "ipython",
    "version": 3
   },
   "file_extension": ".py",
   "mimetype": "text/x-python",
   "name": "python",
   "nbconvert_exporter": "python",
   "pygments_lexer": "ipython3",
   "version": "3.11.5"
  }
 },
 "nbformat": 4,
 "nbformat_minor": 5
}
