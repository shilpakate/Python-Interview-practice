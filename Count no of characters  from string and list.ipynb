{
 "cells": [
  {
   "cell_type": "code",
   "execution_count": 12,
   "id": "bb817c43",
   "metadata": {},
   "outputs": [
    {
     "data": {
      "text/plain": [
       "{1: 1, 2: 4, 3: 9, 4: 16, 5: 25, 6: 36, 7: 49, 8: 64, 9: 81}"
      ]
     },
     "execution_count": 12,
     "metadata": {},
     "output_type": "execute_result"
    }
   ],
   "source": [
    "squares = {x: x*x for x in range(1, 10)}\n",
    "squares"
   ]
  },
  {
   "cell_type": "code",
   "execution_count": 11,
   "id": "b33468af",
   "metadata": {},
   "outputs": [],
   "source": [
    "squares = {x: x*x for x in range(1, 10)}\n"
   ]
  },
  {
   "cell_type": "code",
   "execution_count": 13,
   "id": "cf341e1e",
   "metadata": {},
   "outputs": [
    {
     "name": "stdout",
     "output_type": "stream",
     "text": [
      "[1, 2, 3, 4, 5, 6]\n"
     ]
    }
   ],
   "source": [
    "p = [1, 2, 3, 4, 5, 6, 5, 6]\n",
    "\n",
    "# Initialize an empty list to store unique elements\n",
    "unique_list = []\n",
    "\n",
    "# Iterate through the original list\n",
    "for element in p:\n",
    "    # Check if the element is not already in the unique_list\n",
    "    if element not in unique_list:\n",
    "        # If not present, add it to the unique_list\n",
    "        unique_list.append(element)\n",
    "\n",
    "# The unique_list now contains elements without duplicates\n",
    "print(unique_list)\n"
   ]
  },
  {
   "cell_type": "code",
   "execution_count": 14,
   "id": "cb30d2ce",
   "metadata": {},
   "outputs": [
    {
     "name": "stdout",
     "output_type": "stream",
     "text": [
      "1: 1 occurrences\n",
      "2: 1 occurrences\n",
      "3: 1 occurrences\n",
      "4: 1 occurrences\n",
      "5: 2 occurrences\n",
      "6: 2 occurrences\n"
     ]
    }
   ],
   "source": [
    "p = [1, 2, 3, 4, 5, 6, 5, 6]\n",
    "\n",
    "# Initialize an empty dictionary to store element occurrences\n",
    "element_counts = {}\n",
    "\n",
    "# Iterate through the list\n",
    "for element in p:\n",
    "    # Check if the element is already a key in the dictionary\n",
    "    if element in element_counts:\n",
    "        # If yes, increment the count\n",
    "        element_counts[element] += 1\n",
    "    else:\n",
    "        # If not, add the element to the dictionary with count 1\n",
    "        element_counts[element] = 1\n",
    "\n",
    "# Print the occurrences of each element\n",
    "for element, count in element_counts.items():\n",
    "    print(f\"{element}: {count} occurrences\")\n"
   ]
  },
  {
   "cell_type": "code",
   "execution_count": 15,
   "id": "0f03e4e1",
   "metadata": {},
   "outputs": [
    {
     "name": "stdout",
     "output_type": "stream",
     "text": [
      "Maximum value: 6\n",
      "Minimum value: 1\n"
     ]
    }
   ],
   "source": [
    "p = [1, 2, 3, 4, 5, 6, 5, 6]\n",
    "\n",
    "# Find the maximum and minimum values in the list\n",
    "max_value = max(p)\n",
    "min_value = min(p)\n",
    "\n",
    "# Print the results\n",
    "print(\"Maximum value:\", max_value)\n",
    "print(\"Minimum value:\", min_value)\n"
   ]
  },
  {
   "cell_type": "code",
   "execution_count": 1,
   "id": "a3c3808a",
   "metadata": {},
   "outputs": [
    {
     "name": "stdout",
     "output_type": "stream",
     "text": [
      "Character 'h' occurs 1 times\n",
      "Character 'e' occurs 1 times\n",
      "Character 'l' occurs 3 times\n",
      "Character 'o' occurs 2 times\n",
      "Character 'w' occurs 1 times\n",
      "Character 'r' occurs 1 times\n",
      "Character 'd' occurs 1 times\n"
     ]
    }
   ],
   "source": [
    "my_string = \"Hello, World!\"\n",
    "\n",
    "# Create an empty dictionary to store character counts\n",
    "character_counts = {}\n",
    "\n",
    "# Iterate over each character in the string\n",
    "for char in my_string:\n",
    "    # Check if the character is alphabetic\n",
    "    if char.isalpha():\n",
    "        # Convert the character to lowercase to count case-insensitively\n",
    "        char = char.lower()\n",
    "        # Check if the character is already in the dictionary\n",
    "        if char in character_counts:\n",
    "            # If it is, increment its count by 1\n",
    "            character_counts[char] += 1\n",
    "        else:\n",
    "            # If it's not, initialize its count to 1\n",
    "            character_counts[char] = 1\n",
    "\n",
    "# Print the counts of each alphabetic character\n",
    "for char, count in character_counts.items():\n",
    "    print(f\"Character '{char}' occurs {count} times\")\n"
   ]
  },
  {
   "cell_type": "code",
   "execution_count": null,
   "id": "43a0e98f",
   "metadata": {},
   "outputs": [],
   "source": []
  }
 ],
 "metadata": {
  "kernelspec": {
   "display_name": "Python 3 (ipykernel)",
   "language": "python",
   "name": "python3"
  },
  "language_info": {
   "codemirror_mode": {
    "name": "ipython",
    "version": 3
   },
   "file_extension": ".py",
   "mimetype": "text/x-python",
   "name": "python",
   "nbconvert_exporter": "python",
   "pygments_lexer": "ipython3",
   "version": "3.11.5"
  }
 },
 "nbformat": 4,
 "nbformat_minor": 5
}
