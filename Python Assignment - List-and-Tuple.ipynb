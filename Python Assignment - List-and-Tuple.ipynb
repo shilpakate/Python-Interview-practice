{
 "cells": [
  {
   "cell_type": "markdown",
   "id": "68999f5e",
   "metadata": {},
   "source": [
    "# Python Assignment:List/Tuples \n",
    "1. Write a program to print the sum of integer values present in list. \n",
    "2. Write a program to find entered name is present in list of employees name or not. \n",
    "3. Write a program that accepts a list from user and print the alternate element of list.   \n",
    "4. Write a program that accepts a list from user. Your program should reverse the content of list \n",
    "and display it. Do not use reverse() method.  "
   ]
  },
  {
   "cell_type": "markdown",
   "id": "4b25508d",
   "metadata": {},
   "source": [
    "# 1. Write a program to print the sum of integer values present in list. "
   ]
  },
  {
   "cell_type": "code",
   "execution_count": 1,
   "id": "3c3ad78e",
   "metadata": {},
   "outputs": [
    {
     "name": "stdout",
     "output_type": "stream",
     "text": [
      "15\n"
     ]
    }
   ],
   "source": [
    "# Sum of numbers in the list\n",
    "l1 = [1,2,3,4,5]\n",
    "c = 0\n",
    "for i in l1:\n",
    "       c += i\n",
    "print(c)"
   ]
  },
  {
   "cell_type": "markdown",
   "id": "10017096",
   "metadata": {},
   "source": [
    "# 2. Write a program to find entered name is present in list of employees name or not. "
   ]
  },
  {
   "cell_type": "code",
   "execution_count": 4,
   "id": "339ce2f8",
   "metadata": {},
   "outputs": [
    {
     "name": "stdout",
     "output_type": "stream",
     "text": [
      "Enter No of Elements:5\n",
      "Enter Element for List index0:Shilpa\n",
      "Enter Element for List index1:Kate\n",
      "Enter Element for List index2:Viru\n",
      "Enter Element for List index3:Jr\n",
      "Enter Element for List index4:Kg\n",
      "['Shilpa', 'Kate', 'Viru', 'Jr', 'Kg']\n",
      "Enter name:Viru\n",
      "Viru Is present in the list\n"
     ]
    }
   ],
   "source": [
    "#\n",
    "n=int(input(\"Enter No of Elements:\"))\n",
    "l=[]\n",
    "for i in range(n):\n",
    "    el=input(f\"Enter Element for List index{i}:\")\n",
    "    l.append(el)\n",
    "print(l)\n",
    "name=input(\"Enter name:\")\n",
    "flag=0\n",
    "for i in l:\n",
    "    if name in l:\n",
    "       flag=1\n",
    "if flag==1:\n",
    "    print(name, \"Is present in the list\")\n",
    "else:\n",
    "    print(name, \"Is  not present in the list\")\n"
   ]
  },
  {
   "cell_type": "markdown",
   "id": "53978766",
   "metadata": {},
   "source": [
    "# 3. Write a program that accepts a list from user and print the alternate element of list.  "
   ]
  },
  {
   "cell_type": "code",
   "execution_count": 18,
   "id": "9e4d4e2a",
   "metadata": {},
   "outputs": [
    {
     "name": "stdout",
     "output_type": "stream",
     "text": [
      "Enter no of elements to be add into the list:5\n",
      "Enter element at index:0:23\n",
      "Enter element at index:1:21\n",
      "Enter element at index:2:31\n",
      "Enter element at index:3:51\n",
      "Enter element at index:4:71\n",
      "Entered list is [23, 21, 31, 51, 71]\n",
      "Display alternative elemnts\n",
      "23\n",
      "31\n",
      "71\n"
     ]
    }
   ],
   "source": [
    "l=[]\n",
    "n=int(input(\"Enter no of elements to be add into the list:\"))\n",
    "for i in range(n):\n",
    "    el=input(f\"Enter element at index:{i}:\")\n",
    "    if el.isnumeric()==True:\n",
    "             el=int(el)\n",
    "             l.append(el)  \n",
    "print(\"Entered list is\",l)\n",
    "print(\"Display alternative elemnts\")\n",
    "for i in l[::2]:\n",
    "    print(i)    "
   ]
  },
  {
   "cell_type": "markdown",
   "id": "6560037d",
   "metadata": {},
   "source": [
    "## 4. Write a program that accepts a list from user. Your program should reverse the content of list \n",
    "and display it. Do not use reverse() method."
   ]
  },
  {
   "cell_type": "code",
   "execution_count": 1,
   "id": "173febb0",
   "metadata": {},
   "outputs": [
    {
     "name": "stdout",
     "output_type": "stream",
     "text": [
      "Enter no of elements to be add into the list:4\n",
      "Enter element at index:0:3\n",
      "Enter element at index:1:4\n",
      "Enter element at index:2:23\n",
      "Enter element at index:3:67\n",
      "[67, 23, 4, 3]\n"
     ]
    }
   ],
   "source": [
    "l=[]\n",
    "n=int(input(\"Enter no of elements to be add into the list:\"))\n",
    "for i in range(n):\n",
    "    el=input(f\"Enter element at index:{i}:\")\n",
    "    if el.isnumeric()==True:\n",
    "             el=int(el)\n",
    "             l.append(el)  \n",
    "stack=[]\n",
    "rev=[]\n",
    "for i in l:\n",
    "    if i not in stack:\n",
    "        stack.append(i)\n",
    "        \n",
    "while stack:\n",
    "        rev.append(stack.pop())\n",
    "print(rev)\n",
    "    "
   ]
  },
  {
   "cell_type": "code",
   "execution_count": 9,
   "id": "76608183",
   "metadata": {},
   "outputs": [
    {
     "name": "stdout",
     "output_type": "stream",
     "text": [
      "Enter no of elements to be add into the list:5\n",
      "Enter element at index:0:4\n",
      "Enter element at index:1:5\n",
      "Enter element at index:2:4\n",
      "Enter element at index:3:3\n",
      "Enter element at index:4:3\n",
      "List is [4, 5, 4, 3, 3]\n",
      "Result after reverse: [3, 3, 4, 5, 4]\n"
     ]
    }
   ],
   "source": [
    "l=[]\n",
    "n=int(input(\"Enter no of elements to be add into the list:\"))\n",
    "for i in range(n):\n",
    "    el=input(f\"Enter element at index:{i}:\")\n",
    "    if el.isnumeric()==True:\n",
    "             el=int(el)\n",
    "             l.append(el)  \n",
    "print(\"List is\",l)\n",
    "l.reverse()\n",
    "print(\"Result after reverse:\",l)\n"
   ]
  },
  {
   "cell_type": "markdown",
   "id": "5ce94819",
   "metadata": {},
   "source": [
    "# 5. Find and display the largest number of a list without using built-in function max(). Your program should ask the user to input values in list from keyboard. "
   ]
  },
  {
   "cell_type": "code",
   "execution_count": 24,
   "id": "1c1c708c",
   "metadata": {},
   "outputs": [
    {
     "name": "stdout",
     "output_type": "stream",
     "text": [
      "Enter no of elements:5\n",
      "Enter Elements index0::23\n",
      "Enter Elements index1::44\n",
      "Enter Elements index2::55\n",
      "Enter Elements index3::90\n",
      "Enter Elements index4::677\n",
      "List of Elements: [23, 44, 55, 90, 677]\n",
      "Maximum no from list is: 677\n"
     ]
    }
   ],
   "source": [
    "l=[]\n",
    "num=int(input(\"Enter no of elements:\"))\n",
    "for i in range(num):\n",
    "    el=input(f\"Enter Elements index{i}::\")\n",
    "    if el.isnumeric()==True:\n",
    "        el=int(el)\n",
    "        l.append(el)\n",
    "print(\"List of Elements:\",l)\n",
    "\n",
    "max=l[0]\n",
    "for i in range(1,len(l)):\n",
    "    if max<l[i]:\n",
    "        max=l[i]\n",
    "print(\"Maximum no from list is:\",l[i])\n"
   ]
  },
  {
   "cell_type": "code",
   "execution_count": 25,
   "id": "ea2d325f",
   "metadata": {},
   "outputs": [
    {
     "name": "stdout",
     "output_type": "stream",
     "text": [
      "Enter no of elements:7\n",
      "Enter Elements index0::34\n",
      "Enter Elements index1::33\n",
      "Enter Elements index2::22\n",
      "Enter Elements index3::11\n",
      "Enter Elements index4::22\n",
      "Enter Elements index5::3\n",
      "Enter Elements index6::2\n",
      "List of Elements: [34, 33, 22, 11, 22, 3, 2]\n"
     ]
    },
    {
     "data": {
      "text/plain": [
       "34"
      ]
     },
     "execution_count": 25,
     "metadata": {},
     "output_type": "execute_result"
    }
   ],
   "source": [
    "l=[]\n",
    "num=int(input(\"Enter no of elements:\"))\n",
    "for i in range(num):\n",
    "    el=input(f\"Enter Elements index{i}::\")\n",
    "    if el.isnumeric()==True:\n",
    "        el=int(el)\n",
    "        l.append(el)\n",
    "print(\"List of Elements:\",l)\n",
    "l.sort()\n",
    "max=l[-1]\n",
    "max"
   ]
  },
  {
   "cell_type": "markdown",
   "id": "108781dc",
   "metadata": {},
   "source": [
    "# 6.Write a program that rotates the element of a list so that the element at the first index moves to the second index, the element in the second index moves to the third index, etc., and the element in the last index moves to the first index.  "
   ]
  },
  {
   "cell_type": "code",
   "execution_count": 47,
   "id": "e30f5c0f",
   "metadata": {},
   "outputs": [
    {
     "name": "stdout",
     "output_type": "stream",
     "text": [
      "[3, 1, 2]\n"
     ]
    }
   ],
   "source": [
    "l=[1,2,3]\n",
    "tmp=0\n",
    "for i in range(0,len(l)-1):\n",
    "    tmp=l[0]\n",
    "    l[0]=l[1]\n",
    "    l[1]=l[2]\n",
    "    l[2]=tmp\n",
    "print(l)"
   ]
  },
  {
   "cell_type": "markdown",
   "id": "e38d853f",
   "metadata": {},
   "source": [
    "# 7. Write a program that input a string and ask user to delete a given word from a string.   \n"
   ]
  },
  {
   "cell_type": "code",
   "execution_count": 50,
   "id": "a41937ca",
   "metadata": {},
   "outputs": [
    {
     "name": "stdout",
     "output_type": "stream",
     "text": [
      "Enter String:Hi\n",
      "['shilpa', 'Kate', 'Bye']\n"
     ]
    }
   ],
   "source": [
    "word=input(\"Enter String:\")\n",
    "l=['shilpa','Kate','Hi','Bye']\n",
    "for i in l:\n",
    "    if word in l:\n",
    "        l.remove(word)\n",
    "print(l)"
   ]
  },
  {
   "cell_type": "markdown",
   "id": "00c1a3f7",
   "metadata": {},
   "source": [
    "# 8. Write a program with a function that accepts a string from keyboard and create a new string \n",
    "after converting character of each word capitalized. For instance, if the sentence is \"stop and \n",
    "smell the roses.\" the output should be \"Stop And Smell The Roses\""
   ]
  },
  {
   "cell_type": "code",
   "execution_count": 26,
   "id": "e2242a78",
   "metadata": {},
   "outputs": [
    {
     "name": "stdout",
     "output_type": "stream",
     "text": [
      "Enter string:\n",
      "stop and smell the roses\n",
      "Stop And Smell The Roses\n"
     ]
    }
   ],
   "source": [
    "st=input(\"Enter string:\\n\")\n",
    "l=[]\n",
    "for word in st.split(\" \"):\n",
    "    l.append(word.capitalize())\n",
    "    result = ' '.join(l) \n",
    "print(result)\n",
    "    "
   ]
  },
  {
   "cell_type": "code",
   "execution_count": null,
   "id": "653faa22",
   "metadata": {},
   "outputs": [],
   "source": []
  }
 ],
 "metadata": {
  "kernelspec": {
   "display_name": "Python 3 (ipykernel)",
   "language": "python",
   "name": "python3"
  },
  "language_info": {
   "codemirror_mode": {
    "name": "ipython",
    "version": 3
   },
   "file_extension": ".py",
   "mimetype": "text/x-python",
   "name": "python",
   "nbconvert_exporter": "python",
   "pygments_lexer": "ipython3",
   "version": "3.11.5"
  }
 },
 "nbformat": 4,
 "nbformat_minor": 5
}
