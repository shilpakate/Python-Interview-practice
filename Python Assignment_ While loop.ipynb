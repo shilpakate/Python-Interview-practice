{
 "cells": [
  {
   "cell_type": "markdown",
   "id": "ea14fe88",
   "metadata": {},
   "source": [
    "# Python Assignment: While loop \n",
    "1. Write a program to print values from 1 to 10. \n",
    "2. Write a program to print values from 10 to 1. \n",
    "3. Write a program to print values from 5 to 15. \n",
    "4. Write a program to print values from 1 to entered number. \n",
    "5. Write a program to print entered name n number of times. \n",
    "6. Write a program to print the table of 5. \n",
    "7. Write a program to print the table of entered number. \n",
    "8. Write a program to print the values between two entered number. "
   ]
  },
  {
   "cell_type": "markdown",
   "id": "9b032350",
   "metadata": {},
   "source": [
    "# 1.Write a program to print values from 1 to 10.\n"
   ]
  },
  {
   "cell_type": "code",
   "execution_count": 3,
   "id": "5e61c0df",
   "metadata": {},
   "outputs": [
    {
     "name": "stdout",
     "output_type": "stream",
     "text": [
      "Display values from 1 to 10\n",
      "1\n",
      "2\n",
      "3\n",
      "4\n",
      "5\n",
      "6\n",
      "7\n",
      "8\n",
      "9\n",
      "10\n"
     ]
    }
   ],
   "source": [
    "print(\"Display values from 1 to 10\")\n",
    "c = 1\n",
    "while c<11:\n",
    "    print(c)\n",
    "    c+=1"
   ]
  },
  {
   "cell_type": "markdown",
   "id": "bec0dc89",
   "metadata": {},
   "source": [
    "# 2.Write a program to print values from 10 to 1.\n"
   ]
  },
  {
   "cell_type": "code",
   "execution_count": 5,
   "id": "4c7176df",
   "metadata": {},
   "outputs": [
    {
     "name": "stdout",
     "output_type": "stream",
     "text": [
      "Display values from 10 to 1\n",
      "10\n",
      "9\n",
      "8\n",
      "7\n",
      "6\n",
      "5\n",
      "4\n",
      "3\n",
      "2\n",
      "1\n"
     ]
    }
   ],
   "source": [
    "print(\"Display values from 10 to 1\")\n",
    "c = 10\n",
    "while c>=1:\n",
    "    print(c)\n",
    "    c-=1"
   ]
  },
  {
   "cell_type": "markdown",
   "id": "1347e8f7",
   "metadata": {},
   "source": [
    "# 3.Write a program to print values from 5 to 15.\n"
   ]
  },
  {
   "cell_type": "code",
   "execution_count": 7,
   "id": "8d989bc2",
   "metadata": {},
   "outputs": [
    {
     "name": "stdout",
     "output_type": "stream",
     "text": [
      "Display values from 5 to 15\n",
      "5\n",
      "6\n",
      "7\n",
      "8\n",
      "9\n",
      "10\n",
      "11\n",
      "12\n",
      "13\n",
      "14\n",
      "15\n"
     ]
    }
   ],
   "source": [
    "print(\"Display values from 5 to 15:\")\n",
    "c = 5\n",
    "while c <= 15:\n",
    "    print(c)\n",
    "    c += 1"
   ]
  },
  {
   "cell_type": "markdown",
   "id": "ae9194b4",
   "metadata": {},
   "source": [
    "# 4.Write a program to print values from 1 to entered number.\n"
   ]
  },
  {
   "cell_type": "code",
   "execution_count": 18,
   "id": "6c7b1916",
   "metadata": {},
   "outputs": [
    {
     "name": "stdout",
     "output_type": "stream",
     "text": [
      "Display values from 1 to Entered number:\n",
      "Enter number:5\n",
      "1\n",
      "2\n",
      "3\n",
      "4\n",
      "5\n"
     ]
    }
   ],
   "source": [
    "print(\"Display values from 1 to Entered number:\")\n",
    "num=int(input(\"Enter number:\"))\n",
    "c = 1\n",
    "while c <= num:\n",
    "    print(c)\n",
    "    c += 1"
   ]
  },
  {
   "cell_type": "markdown",
   "id": "7c42c8dd",
   "metadata": {},
   "source": [
    "# 5.Write a program to print entered name n number of times.\n"
   ]
  },
  {
   "cell_type": "code",
   "execution_count": 9,
   "id": "15398bf0",
   "metadata": {},
   "outputs": [
    {
     "name": "stdout",
     "output_type": "stream",
     "text": [
      "Enter Name:Shilpa\n",
      "Enter number how much time needs to print name:3\n",
      "Shilpa\n",
      "Shilpa\n",
      "Shilpa\n"
     ]
    }
   ],
   "source": [
    "string= input(\"Enter Name:\")\n",
    "n=int(input(\"Enter number how much time needs to print name:\"))\n",
    "c=1\n",
    "while c <= n:\n",
    "    print(string)\n",
    "    c += 1\n"
   ]
  },
  {
   "cell_type": "markdown",
   "id": "01ee5d34",
   "metadata": {},
   "source": [
    "# 6.Write a program to print the table of 5.\n"
   ]
  },
  {
   "cell_type": "code",
   "execution_count": 13,
   "id": "a5383792",
   "metadata": {},
   "outputs": [
    {
     "name": "stdout",
     "output_type": "stream",
     "text": [
      "Display table of 5:\n",
      "5\n",
      "10\n",
      "15\n",
      "20\n",
      "25\n",
      "30\n",
      "35\n",
      "40\n",
      "45\n",
      "50\n"
     ]
    }
   ],
   "source": [
    "print(\"Display table of 5:\")\n",
    "c=1\n",
    "while c <= 10:\n",
    "    \n",
    "    print(c*5)\n",
    "    c += 1\n"
   ]
  },
  {
   "cell_type": "markdown",
   "id": "f0f64e6e",
   "metadata": {},
   "source": [
    "# 7.Write a program to print the table of entered number.\n"
   ]
  },
  {
   "cell_type": "code",
   "execution_count": 15,
   "id": "04cbf7c8",
   "metadata": {},
   "outputs": [
    {
     "name": "stdout",
     "output_type": "stream",
     "text": [
      "Enter number4\n",
      "Table of 4 :\n",
      "4\n",
      "8\n",
      "12\n",
      "16\n",
      "20\n",
      "24\n",
      "28\n",
      "32\n",
      "36\n",
      "40\n"
     ]
    }
   ],
   "source": [
    "num= int(input(\"Enter number\"))\n",
    "print(\"Table of\",num,\":\")       \n",
    "c=1\n",
    "while c <= 10:\n",
    "    \n",
    "    print(c*num)\n",
    "    c += 1"
   ]
  },
  {
   "cell_type": "markdown",
   "id": "52b7b5fb",
   "metadata": {},
   "source": [
    "# 8.Write a program to print the values between two entered number."
   ]
  },
  {
   "cell_type": "code",
   "execution_count": 17,
   "id": "27e19453",
   "metadata": {},
   "outputs": [
    {
     "name": "stdout",
     "output_type": "stream",
     "text": [
      "Enter starting number:3\n",
      "Enter end number:6\n",
      "3\n",
      "4\n",
      "5\n",
      "6\n"
     ]
    }
   ],
   "source": [
    "start= int(input(\"Enter starting number:\"))\n",
    "stop=int(input(\"Enter end number:\"))\n",
    "\n",
    "while start <= stop:\n",
    "    print(start)\n",
    "    start+=1"
   ]
  },
  {
   "cell_type": "code",
   "execution_count": null,
   "id": "53216e6a",
   "metadata": {},
   "outputs": [],
   "source": []
  }
 ],
 "metadata": {
  "kernelspec": {
   "display_name": "Python 3 (ipykernel)",
   "language": "python",
   "name": "python3"
  },
  "language_info": {
   "codemirror_mode": {
    "name": "ipython",
    "version": 3
   },
   "file_extension": ".py",
   "mimetype": "text/x-python",
   "name": "python",
   "nbconvert_exporter": "python",
   "pygments_lexer": "ipython3",
   "version": "3.11.5"
  }
 },
 "nbformat": 4,
 "nbformat_minor": 5
}
