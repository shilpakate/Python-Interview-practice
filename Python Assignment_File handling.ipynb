{
 "cells": [
  {
   "cell_type": "markdown",
   "id": "09084fde",
   "metadata": {},
   "source": [
    "# Python Assignment:File handling "
   ]
  },
  {
   "cell_type": "markdown",
   "id": "1235fc05",
   "metadata": {},
   "source": [
    "# Create python.txt file"
   ]
  },
  {
   "cell_type": "code",
   "execution_count": 28,
   "id": "bf92aefb",
   "metadata": {},
   "outputs": [],
   "source": [
    "with open('Python.txt','w') as f:\n",
    "    f.write(\"Hello this is first PYTHON FILE\\n\")\n",
    "    f.writelines(\"We learn ,Its easy,\\nI am enjoying\")"
   ]
  },
  {
   "cell_type": "markdown",
   "id": "b3d9de5c",
   "metadata": {},
   "source": [
    "# 1.find no of characters, no  of words or number of lines in Python text file. "
   ]
  },
  {
   "cell_type": "code",
   "execution_count": 31,
   "id": "1e8bdb14",
   "metadata": {},
   "outputs": [
    {
     "name": "stdout",
     "output_type": "stream",
     "text": [
      "Hello this is first PYTHON FILE\n",
      "We learn ,Its easy,\n",
      "I am enjoying\n",
      "**********************\n",
      "No of characters are=: 65\n",
      "No of words are=: 11\n",
      "No of lines in the file Python.txt are:= 3\n"
     ]
    }
   ],
   "source": [
    "with open('Python.txt','r') as f:\n",
    "    s=f.read()\n",
    "    l=f.readlines()\n",
    "    print(s)\n",
    "    print(\"**********************\")\n",
    "    count=0\n",
    "    wd=0\n",
    "    c=0\n",
    "    for char in s:\n",
    "        count+=1\n",
    "    print(\"No of characters are=:\",count)\n",
    "    for word in s.split(' '):\n",
    "        wd+=1\n",
    "    print(\"No of words are=:\",wd)\n",
    "    for i in s.split('\\n'):\n",
    "        c+=1\n",
    "    print(\"No of lines in the file Python.txt are:=\",c)\n",
    "        \n",
    "    "
   ]
  },
  {
   "cell_type": "markdown",
   "id": "29cda160",
   "metadata": {},
   "source": [
    "# 2.Write a program to Count the number of upper-case alphabets present in a text file “PYTHON.TXT”. \n",
    "\n",
    "Ex: We Learn Python.   3 isupper()  \n",
    "\n",
    "\n",
    "\n",
    " \n",
    "\n",
    " "
   ]
  },
  {
   "cell_type": "code",
   "execution_count": 35,
   "id": "76d0a5b5",
   "metadata": {},
   "outputs": [
    {
     "name": "stdout",
     "output_type": "stream",
     "text": [
      "No of Uppercase alphabets in file are: 14\n"
     ]
    }
   ],
   "source": [
    "with open('Python.txt','r') as f:\n",
    "    s=f.read()\n",
    "    count=0\n",
    "    for char in s:\n",
    "        if char.isupper():\n",
    "            count+=1\n",
    "    print(\"No of Uppercase alphabets in file are:\",count)"
   ]
  },
  {
   "cell_type": "markdown",
   "id": "09696e86",
   "metadata": {},
   "source": [
    "# 3. A text file “PYTHON.TXT” contains alphanumeric text. Write a program that reads this text file and writes to another file “PYTHON1.TXT” entire file except the numbers or digits in the file. "
   ]
  },
  {
   "cell_type": "code",
   "execution_count": 44,
   "id": "41a49319",
   "metadata": {},
   "outputs": [
    {
     "name": "stdout",
     "output_type": "stream",
     "text": [
      "Hello this is first PYTHON FILE 1 2 3\n",
      "from last 15 days we leaning python,50% syllabus has get covered\n",
      "********Output********\n",
      "Hello this is first PYTHON FILE   \n",
      "from last  days we leaning python,% syllabus has get covered\n"
     ]
    }
   ],
   "source": [
    "with open('Python.txt','w') as f:\n",
    "    f.write(\"Hello this is first PYTHON FILE 1 2 3\\n\")\n",
    "    f.writelines(\"from last 15 days we leaning python,50% syllabus has get covered\")\n",
    "with open('Python.txt','r') as f:    \n",
    "    s=f.read()\n",
    "print(s)\n",
    "for char in s:\n",
    "    if char.isnumeric():\n",
    "        pass\n",
    "    else:\n",
    "        with open('Python2.txt','a') as f:\n",
    "            f.write(char)\n",
    "\n",
    "print(\"********Output********\")\n",
    "with open('Python2.txt','r') as f:\n",
    "    print(f.read())"
   ]
  },
  {
   "cell_type": "markdown",
   "id": "55c3f765",
   "metadata": {},
   "source": [
    "# 4.Write a program to count the words “to” and “the” present in a text file “python.txt”. \n"
   ]
  },
  {
   "cell_type": "code",
   "execution_count": 27,
   "id": "6e634b3a",
   "metadata": {},
   "outputs": [
    {
     "name": "stdout",
     "output_type": "stream",
     "text": [
      "Python4.txt= to to the the\n",
      "to the\n",
      "****Output***\n",
      "count the words,  the= 3 to= 3\n"
     ]
    }
   ],
   "source": [
    "with open('Python4.txt','w') as f:\n",
    "    f.write(\"to to the the\\n\")\n",
    "    f.writelines(\"to the\")\n",
    "with open('Python4.txt','r') as f:\n",
    "    s=f.read()\n",
    "print(\"Python4.txt=\",s)\n",
    "print(\"****Output***\")\n",
    "count=0\n",
    "c=0\n",
    "Words = s.split() + s.split('\\n')\n",
    "\n",
    "for word in Words:\n",
    "        if word=='to':\n",
    "            count+=1\n",
    "        if word=='the':\n",
    "            c+=1\n",
    "print(\"count the words, \",\"the=\",c,\"to=\",count)"
   ]
  },
  {
   "cell_type": "markdown",
   "id": "47893361",
   "metadata": {},
   "source": [
    "# 5.Write a program to display all the lines in a file “python.txt” along with line/record number. "
   ]
  },
  {
   "cell_type": "code",
   "execution_count": 26,
   "id": "375a60fb",
   "metadata": {},
   "outputs": [
    {
     "name": "stdout",
     "output_type": "stream",
     "text": [
      "1 Hello\n",
      "2 Hi\n",
      "3 Bye\n",
      "4 This program displaying line number\n"
     ]
    }
   ],
   "source": [
    "with open('Python5.txt','w') as f:\n",
    "    f.write(\"Hello\\n\")\n",
    "    f.write(\"Hi\\n\")\n",
    "    f.write(\"Bye\\n\")\n",
    "    f.write(\"This program displaying line number\")\n",
    "with open('Python5.txt','r') as f:\n",
    "    s=f.read()\n",
    "    count=0\n",
    "for line in s.split('\\n'):\n",
    "    count+=1\n",
    "    print(count,line)"
   ]
  },
  {
   "cell_type": "code",
   "execution_count": null,
   "id": "df0100b5",
   "metadata": {},
   "outputs": [],
   "source": []
  }
 ],
 "metadata": {
  "kernelspec": {
   "display_name": "Python 3 (ipykernel)",
   "language": "python",
   "name": "python3"
  },
  "language_info": {
   "codemirror_mode": {
    "name": "ipython",
    "version": 3
   },
   "file_extension": ".py",
   "mimetype": "text/x-python",
   "name": "python",
   "nbconvert_exporter": "python",
   "pygments_lexer": "ipython3",
   "version": "3.11.5"
  }
 },
 "nbformat": 4,
 "nbformat_minor": 5
}
