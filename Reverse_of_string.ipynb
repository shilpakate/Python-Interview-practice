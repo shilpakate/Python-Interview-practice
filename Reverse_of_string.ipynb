{
 "cells": [
  {
   "cell_type": "code",
   "execution_count": 1,
   "id": "6dcfe60e",
   "metadata": {},
   "outputs": [],
   "source": [
    "def reverse_string(string):\n",
    "    reversed_string = \"\"\n",
    "    for i in range(len(string) - 1, -1, -1):\n",
    "        reversed_string += string[i]\n",
    "    return reversed_string"
   ]
  },
  {
   "cell_type": "code",
   "execution_count": 7,
   "id": "b859a9bf",
   "metadata": {},
   "outputs": [
    {
     "name": "stdout",
     "output_type": "stream",
     "text": [
      "aplihs\n"
     ]
    }
   ],
   "source": [
    "print(reverse_string(\"shilpa\"))"
   ]
  },
  {
   "cell_type": "code",
   "execution_count": 8,
   "id": "6eb829e8",
   "metadata": {},
   "outputs": [],
   "source": [
    "def reverse_string(string):\n",
    "    return string[::-1]"
   ]
  },
  {
   "cell_type": "code",
   "execution_count": 10,
   "id": "8cbf41cc",
   "metadata": {},
   "outputs": [
    {
     "name": "stdout",
     "output_type": "stream",
     "text": [
      "etakaplihs\n"
     ]
    }
   ],
   "source": [
    "print(reverse_string(\"shilpakate\"))"
   ]
  },
  {
   "cell_type": "code",
   "execution_count": 30,
   "id": "57d0fa75",
   "metadata": {},
   "outputs": [],
   "source": [
    "def rev_string(string):\n",
    "    stack=[]\n",
    "    for char in string:\n",
    "        stack.append(char)\n",
    "    reversed_string=[]\n",
    "    while len(stack)>0:\n",
    "         reversed_string.append(stack.pop())\n",
    "    return\"\".join(  reversed_string)"
   ]
  },
  {
   "cell_type": "code",
   "execution_count": 31,
   "id": "72b3f6ac",
   "metadata": {},
   "outputs": [
    {
     "name": "stdout",
     "output_type": "stream",
     "text": [
      "etakaplihs\n"
     ]
    }
   ],
   "source": [
    "print(rev_string(\"shilpakate\"))"
   ]
  },
  {
   "cell_type": "code",
   "execution_count": null,
   "id": "0dabec00",
   "metadata": {},
   "outputs": [],
   "source": []
  },
  {
   "cell_type": "code",
   "execution_count": 38,
   "id": "5c420396",
   "metadata": {},
   "outputs": [],
   "source": [
    "def rev(string):\n",
    "    stack=[]\n",
    "    for char in string:\n",
    "        stack.append(char)\n",
    "    reversed_string=[]\n",
    "    while len(stack)>0:\n",
    "        reversed_string.append(stack.pop())\n",
    "    return\"\".join( reversed_string)"
   ]
  },
  {
   "cell_type": "code",
   "execution_count": 39,
   "id": "526f1a40",
   "metadata": {},
   "outputs": [
    {
     "name": "stdout",
     "output_type": "stream",
     "text": [
      "tnahsarP\n"
     ]
    }
   ],
   "source": [
    "print(rev(\"Prashant\"))"
   ]
  },
  {
   "cell_type": "code",
   "execution_count": null,
   "id": "c3e08b65",
   "metadata": {},
   "outputs": [],
   "source": []
  }
 ],
 "metadata": {
  "kernelspec": {
   "display_name": "Python 3 (ipykernel)",
   "language": "python",
   "name": "python3"
  },
  "language_info": {
   "codemirror_mode": {
    "name": "ipython",
    "version": 3
   },
   "file_extension": ".py",
   "mimetype": "text/x-python",
   "name": "python",
   "nbconvert_exporter": "python",
   "pygments_lexer": "ipython3",
   "version": "3.11.5"
  }
 },
 "nbformat": 4,
 "nbformat_minor": 5
}
