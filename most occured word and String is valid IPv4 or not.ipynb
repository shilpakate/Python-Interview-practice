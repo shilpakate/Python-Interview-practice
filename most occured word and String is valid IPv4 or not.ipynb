{
 "cells": [
  {
   "cell_type": "markdown",
   "id": "f970cb6e",
   "metadata": {},
   "source": [
    "# Write a program that find most repetative character in the string "
   ]
  },
  {
   "cell_type": "code",
   "execution_count": 16,
   "id": "5b1a3257",
   "metadata": {},
   "outputs": [
    {
     "name": "stdout",
     "output_type": "stream",
     "text": [
      "d\n"
     ]
    }
   ],
   "source": [
    "def most_repeated(s):\n",
    "    char_count={}\n",
    "    for char in s:\n",
    "        if char in char_count:\n",
    "             char_count[char] += 1\n",
    "        else:\n",
    "             char_count[char]=1\n",
    "    \n",
    "    max_char=max(char_count,key=char_count.get)\n",
    "    return max_char\n",
    "\n",
    "string=\"aabbbcdddde\"\n",
    "print(most_repeated(string))\n",
    "\n"
   ]
  },
  {
   "cell_type": "markdown",
   "id": "09fde485",
   "metadata": {},
   "source": [
    "# Write function that checks if a given string is valid IPV4 Address"
   ]
  },
  {
   "cell_type": "code",
   "execution_count": 23,
   "id": "06b91378",
   "metadata": {},
   "outputs": [
    {
     "name": "stdout",
     "output_type": "stream",
     "text": [
      "False\n"
     ]
    }
   ],
   "source": [
    "def is_valid(ip):\n",
    "    parts=ip.split(\".\")\n",
    "    if len(parts)!=4:\n",
    "        return False\n",
    "    for item in parts:\n",
    "        if not item.isdigit():\n",
    "            return False\n",
    "        num=int(item)\n",
    "        if num < 0 or num > 255:\n",
    "            return False\n",
    "    return True\n",
    "    \n",
    "address=\"192.168.1\"\n",
    "print(is_valid(address))"
   ]
  },
  {
   "cell_type": "code",
   "execution_count": null,
   "id": "b765f6d5",
   "metadata": {},
   "outputs": [],
   "source": []
  }
 ],
 "metadata": {
  "kernelspec": {
   "display_name": "Python 3 (ipykernel)",
   "language": "python",
   "name": "python3"
  },
  "language_info": {
   "codemirror_mode": {
    "name": "ipython",
    "version": 3
   },
   "file_extension": ".py",
   "mimetype": "text/x-python",
   "name": "python",
   "nbconvert_exporter": "python",
   "pygments_lexer": "ipython3",
   "version": "3.11.5"
  }
 },
 "nbformat": 4,
 "nbformat_minor": 5
}
