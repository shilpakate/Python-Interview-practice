{
 "cells": [
  {
   "cell_type": "code",
   "execution_count": 1,
   "id": "c85010b3",
   "metadata": {},
   "outputs": [
    {
     "name": "stdout",
     "output_type": "stream",
     "text": [
      "7\n"
     ]
    }
   ],
   "source": [
    "sum=lambda x,y:x+y\n",
    "print(sum(3,4))"
   ]
  },
  {
   "cell_type": "code",
   "execution_count": 2,
   "id": "f7bd5234",
   "metadata": {},
   "outputs": [
    {
     "name": "stdout",
     "output_type": "stream",
     "text": [
      "4\n"
     ]
    }
   ],
   "source": [
    "square= lambda x:x*x\n",
    "print(square(2))"
   ]
  },
  {
   "cell_type": "code",
   "execution_count": 13,
   "id": "13368321",
   "metadata": {},
   "outputs": [
    {
     "name": "stdout",
     "output_type": "stream",
     "text": [
      "False\n"
     ]
    }
   ],
   "source": [
    "is_even= lambda x:x%2==0\n",
    "print(is_even(55))"
   ]
  },
  {
   "cell_type": "code",
   "execution_count": 14,
   "id": "516efd90",
   "metadata": {},
   "outputs": [
    {
     "name": "stdout",
     "output_type": "stream",
     "text": [
      "[2, 4, 6, 6, 8, 8, 90]\n"
     ]
    }
   ],
   "source": [
    "number=[1,2,3,4,5,6,6,7,8,8,90]\n",
    "l=filter(lambda x:x%2==0,number)\n",
    "print(list(l))"
   ]
  },
  {
   "cell_type": "code",
   "execution_count": 26,
   "id": "2c6c8611",
   "metadata": {},
   "outputs": [
    {
     "name": "stdout",
     "output_type": "stream",
     "text": [
      "24\n"
     ]
    }
   ],
   "source": [
    "from functools import reduce\n",
    "nums = [1, 2, 3, 4]\n",
    "product = reduce(lambda x, y: x * y, nums)\n",
    "print(product)  # Output: 24"
   ]
  },
  {
   "cell_type": "code",
   "execution_count": 16,
   "id": "54027cb0",
   "metadata": {},
   "outputs": [
    {
     "name": "stdout",
     "output_type": "stream",
     "text": [
      "[1, 4, 9, 16]\n"
     ]
    }
   ],
   "source": [
    "num=[1,2,3,4]\n",
    "l=map(lambda x:x*x,num)\n",
    "print(list(l))"
   ]
  },
  {
   "cell_type": "code",
   "execution_count": 23,
   "id": "ad8dde22",
   "metadata": {},
   "outputs": [
    {
     "name": "stdout",
     "output_type": "stream",
     "text": [
      "[(5, 0), (3, 1), (1, 2), (2, 4)]\n"
     ]
    }
   ],
   "source": [
    "points = [(1, 2), (3, 1), (5, 0), (2, 4)]\n",
    "points_sorted = sorted(points, key=lambda x: x[1])\n",
    "print(points_sorted)  # Output: [(5, 0), (3, 1), (1, 2), (2, 4)]"
   ]
  },
  {
   "cell_type": "code",
   "execution_count": 28,
   "id": "5f8eb679",
   "metadata": {},
   "outputs": [
    {
     "name": "stdout",
     "output_type": "stream",
     "text": [
      "odd\n"
     ]
    }
   ],
   "source": [
    "x = 15\n",
    "is_adult = lambda x: \"Even\" if x %2==0  else \"odd\"\n",
    "print(is_adult(x))  # Output: Minor\n"
   ]
  },
  {
   "cell_type": "code",
   "execution_count": 29,
   "id": "8a7b2234",
   "metadata": {},
   "outputs": [
    {
     "name": "stdout",
     "output_type": "stream",
     "text": [
      "3.0\n"
     ]
    }
   ],
   "source": [
    "def decorator(func):\n",
    "    def smart_div(a,b):\n",
    "        if b>a:\n",
    "            a,b=b,a\n",
    "        return func(a,b)\n",
    "    return smart_div\n",
    "\n",
    "@decorator\n",
    "def div(a,b):\n",
    "    return(a/b)\n",
    "\n",
    "print(div(3,9))"
   ]
  },
  {
   "cell_type": "code",
   "execution_count": 30,
   "id": "a0d87576",
   "metadata": {},
   "outputs": [
    {
     "name": "stdout",
     "output_type": "stream",
     "text": [
      "10\n",
      "15\n"
     ]
    }
   ],
   "source": [
    "def make_multiplier(n):\n",
    "    return lambda x: x * n\n",
    "\n",
    "doubler = make_multiplier(2)\n",
    "tripler = make_multiplier(3)\n",
    "\n",
    "print(doubler(5))  # Output: 10\n",
    "print(tripler(5))  # Output: 15\n"
   ]
  },
  {
   "cell_type": "code",
   "execution_count": null,
   "id": "dbdb2314",
   "metadata": {},
   "outputs": [],
   "source": []
  }
 ],
 "metadata": {
  "kernelspec": {
   "display_name": "Python 3 (ipykernel)",
   "language": "python",
   "name": "python3"
  },
  "language_info": {
   "codemirror_mode": {
    "name": "ipython",
    "version": 3
   },
   "file_extension": ".py",
   "mimetype": "text/x-python",
   "name": "python",
   "nbconvert_exporter": "python",
   "pygments_lexer": "ipython3",
   "version": "3.11.5"
  }
 },
 "nbformat": 4,
 "nbformat_minor": 5
}
