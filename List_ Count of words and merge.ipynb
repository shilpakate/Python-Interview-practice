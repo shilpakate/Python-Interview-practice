{
 "cells": [
  {
   "cell_type": "markdown",
   "id": "83bd6297",
   "metadata": {},
   "source": [
    "# Write the count of words in the list\n"
   ]
  },
  {
   "cell_type": "code",
   "execution_count": 5,
   "id": "6b59cf44",
   "metadata": {},
   "outputs": [
    {
     "name": "stdout",
     "output_type": "stream",
     "text": [
      "4\n"
     ]
    }
   ],
   "source": [
    "def count(word):\n",
    "    return len(word.split())\n",
    "s=\"THis is shilpa Kate\"\n",
    "print(count(s))"
   ]
  },
  {
   "cell_type": "markdown",
   "id": "2c6e86c5",
   "metadata": {},
   "source": [
    "# Write python function to merge two dictionaries. If both dictionary have same value the prefer 2nd dictionary values"
   ]
  },
  {
   "cell_type": "code",
   "execution_count": 10,
   "id": "cbe1409b",
   "metadata": {},
   "outputs": [
    {
     "name": "stdout",
     "output_type": "stream",
     "text": [
      "{'a': 1, 'b': 3, 'c': 4}\n"
     ]
    }
   ],
   "source": [
    "def merge_dicts(d1,d2):\n",
    "    merged=d1.copy()\n",
    "    merged.update(d2)\n",
    "    return merged\n",
    "d1={'a':1,'b':2}\n",
    "d2={'b':3,'c':4}\n",
    "print(merge_dicts(d1,d2))"
   ]
  },
  {
   "cell_type": "code",
   "execution_count": null,
   "id": "93da49e0",
   "metadata": {},
   "outputs": [],
   "source": []
  }
 ],
 "metadata": {
  "kernelspec": {
   "display_name": "Python 3 (ipykernel)",
   "language": "python",
   "name": "python3"
  },
  "language_info": {
   "codemirror_mode": {
    "name": "ipython",
    "version": 3
   },
   "file_extension": ".py",
   "mimetype": "text/x-python",
   "name": "python",
   "nbconvert_exporter": "python",
   "pygments_lexer": "ipython3",
   "version": "3.11.5"
  }
 },
 "nbformat": 4,
 "nbformat_minor": 5
}
